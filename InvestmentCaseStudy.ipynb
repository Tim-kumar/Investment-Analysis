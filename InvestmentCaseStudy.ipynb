{
 "cells": [
  {
   "cell_type": "markdown",
   "metadata": {},
   "source": [
    "### Investment Case Study - Tim Kumar M B\n",
    "\n",
    "First part of the case study is to setup the required libraries and data"
   ]
  },
  {
   "cell_type": "code",
   "execution_count": 1,
   "metadata": {
    "collapsed": true
   },
   "outputs": [],
   "source": [
    "####Import the required libraries\n",
    "\n",
    "import numpy as np\n",
    "import pandas as pd\n",
    "\n",
    "import matplotlib.pyplot as plt\n",
    "import seaborn as sns\n",
    "\n",
    "sns.set(style=\"white\")"
   ]
  },
  {
   "cell_type": "code",
   "execution_count": 2,
   "metadata": {},
   "outputs": [
    {
     "data": {
      "text/html": [
       "<div>\n",
       "<style>\n",
       "    .dataframe thead tr:only-child th {\n",
       "        text-align: right;\n",
       "    }\n",
       "\n",
       "    .dataframe thead th {\n",
       "        text-align: left;\n",
       "    }\n",
       "\n",
       "    .dataframe tbody tr th {\n",
       "        vertical-align: top;\n",
       "    }\n",
       "</style>\n",
       "<table border=\"1\" class=\"dataframe\">\n",
       "  <thead>\n",
       "    <tr style=\"text-align: right;\">\n",
       "      <th></th>\n",
       "      <th>permalink</th>\n",
       "      <th>name</th>\n",
       "      <th>homepage_url</th>\n",
       "      <th>category_list</th>\n",
       "      <th>status</th>\n",
       "      <th>country_code</th>\n",
       "      <th>state_code</th>\n",
       "      <th>region</th>\n",
       "      <th>city</th>\n",
       "      <th>founded_at</th>\n",
       "    </tr>\n",
       "  </thead>\n",
       "  <tbody>\n",
       "    <tr>\n",
       "      <th>0</th>\n",
       "      <td>/Organization/-Fame</td>\n",
       "      <td>#fame</td>\n",
       "      <td>http://livfame.com</td>\n",
       "      <td>Media</td>\n",
       "      <td>operating</td>\n",
       "      <td>IND</td>\n",
       "      <td>16</td>\n",
       "      <td>Mumbai</td>\n",
       "      <td>Mumbai</td>\n",
       "      <td>NaN</td>\n",
       "    </tr>\n",
       "    <tr>\n",
       "      <th>1</th>\n",
       "      <td>/Organization/-Qounter</td>\n",
       "      <td>:Qounter</td>\n",
       "      <td>http://www.qounter.com</td>\n",
       "      <td>Application Platforms|Real Time|Social Network...</td>\n",
       "      <td>operating</td>\n",
       "      <td>USA</td>\n",
       "      <td>DE</td>\n",
       "      <td>DE - Other</td>\n",
       "      <td>Delaware City</td>\n",
       "      <td>04-09-2014</td>\n",
       "    </tr>\n",
       "    <tr>\n",
       "      <th>2</th>\n",
       "      <td>/Organization/-The-One-Of-Them-Inc-</td>\n",
       "      <td>(THE) ONE of THEM,Inc.</td>\n",
       "      <td>http://oneofthem.jp</td>\n",
       "      <td>Apps|Games|Mobile</td>\n",
       "      <td>operating</td>\n",
       "      <td>NaN</td>\n",
       "      <td>NaN</td>\n",
       "      <td>NaN</td>\n",
       "      <td>NaN</td>\n",
       "      <td>NaN</td>\n",
       "    </tr>\n",
       "    <tr>\n",
       "      <th>3</th>\n",
       "      <td>/Organization/0-6-Com</td>\n",
       "      <td>0-6.com</td>\n",
       "      <td>http://www.0-6.com</td>\n",
       "      <td>Curated Web</td>\n",
       "      <td>operating</td>\n",
       "      <td>CHN</td>\n",
       "      <td>22</td>\n",
       "      <td>Beijing</td>\n",
       "      <td>Beijing</td>\n",
       "      <td>01-01-2007</td>\n",
       "    </tr>\n",
       "    <tr>\n",
       "      <th>4</th>\n",
       "      <td>/Organization/004-Technologies</td>\n",
       "      <td>004 Technologies</td>\n",
       "      <td>http://004gmbh.de/en/004-interact</td>\n",
       "      <td>Software</td>\n",
       "      <td>operating</td>\n",
       "      <td>USA</td>\n",
       "      <td>IL</td>\n",
       "      <td>Springfield, Illinois</td>\n",
       "      <td>Champaign</td>\n",
       "      <td>01-01-2010</td>\n",
       "    </tr>\n",
       "  </tbody>\n",
       "</table>\n",
       "</div>"
      ],
      "text/plain": [
       "                             permalink                    name  \\\n",
       "0                  /Organization/-Fame                   #fame   \n",
       "1               /Organization/-Qounter                :Qounter   \n",
       "2  /Organization/-The-One-Of-Them-Inc-  (THE) ONE of THEM,Inc.   \n",
       "3                /Organization/0-6-Com                 0-6.com   \n",
       "4       /Organization/004-Technologies        004 Technologies   \n",
       "\n",
       "                        homepage_url  \\\n",
       "0                 http://livfame.com   \n",
       "1             http://www.qounter.com   \n",
       "2                http://oneofthem.jp   \n",
       "3                 http://www.0-6.com   \n",
       "4  http://004gmbh.de/en/004-interact   \n",
       "\n",
       "                                       category_list     status country_code  \\\n",
       "0                                              Media  operating          IND   \n",
       "1  Application Platforms|Real Time|Social Network...  operating          USA   \n",
       "2                                  Apps|Games|Mobile  operating          NaN   \n",
       "3                                        Curated Web  operating          CHN   \n",
       "4                                           Software  operating          USA   \n",
       "\n",
       "  state_code                 region           city  founded_at  \n",
       "0         16                 Mumbai         Mumbai         NaN  \n",
       "1         DE             DE - Other  Delaware City  04-09-2014  \n",
       "2        NaN                    NaN            NaN         NaN  \n",
       "3         22                Beijing        Beijing  01-01-2007  \n",
       "4         IL  Springfield, Illinois      Champaign  01-01-2010  "
      ]
     },
     "execution_count": 2,
     "metadata": {},
     "output_type": "execute_result"
    }
   ],
   "source": [
    "####Import Companies dataset...ANSI encoding works fine with the provided dataset in windows machine...\n",
    "####with other encoding schemes there is a little discrepancy\n",
    "companies = pd.read_csv(\"companies.txt\", sep=\"\\t\", encoding = \"ANSI\")\n",
    "companies.head()\n",
    "#companies.to_csv(\"cos.csv\", encoding=\"ANSI\")"
   ]
  },
  {
   "cell_type": "code",
   "execution_count": 3,
   "metadata": {},
   "outputs": [
    {
     "data": {
      "text/html": [
       "<div>\n",
       "<style>\n",
       "    .dataframe thead tr:only-child th {\n",
       "        text-align: right;\n",
       "    }\n",
       "\n",
       "    .dataframe thead th {\n",
       "        text-align: left;\n",
       "    }\n",
       "\n",
       "    .dataframe tbody tr th {\n",
       "        vertical-align: top;\n",
       "    }\n",
       "</style>\n",
       "<table border=\"1\" class=\"dataframe\">\n",
       "  <thead>\n",
       "    <tr style=\"text-align: right;\">\n",
       "      <th></th>\n",
       "      <th>company_permalink</th>\n",
       "      <th>funding_round_permalink</th>\n",
       "      <th>funding_round_type</th>\n",
       "      <th>funding_round_code</th>\n",
       "      <th>funded_at</th>\n",
       "      <th>raised_amount_usd</th>\n",
       "    </tr>\n",
       "  </thead>\n",
       "  <tbody>\n",
       "    <tr>\n",
       "      <th>0</th>\n",
       "      <td>/organization/-fame</td>\n",
       "      <td>/funding-round/9a01d05418af9f794eebff7ace91f638</td>\n",
       "      <td>venture</td>\n",
       "      <td>B</td>\n",
       "      <td>05-01-2015</td>\n",
       "      <td>10000000.0</td>\n",
       "    </tr>\n",
       "    <tr>\n",
       "      <th>1</th>\n",
       "      <td>/ORGANIZATION/-QOUNTER</td>\n",
       "      <td>/funding-round/22dacff496eb7acb2b901dec1dfe5633</td>\n",
       "      <td>venture</td>\n",
       "      <td>A</td>\n",
       "      <td>14-10-2014</td>\n",
       "      <td>NaN</td>\n",
       "    </tr>\n",
       "    <tr>\n",
       "      <th>2</th>\n",
       "      <td>/organization/-qounter</td>\n",
       "      <td>/funding-round/b44fbb94153f6cdef13083530bb48030</td>\n",
       "      <td>seed</td>\n",
       "      <td>NaN</td>\n",
       "      <td>01-03-2014</td>\n",
       "      <td>700000.0</td>\n",
       "    </tr>\n",
       "    <tr>\n",
       "      <th>3</th>\n",
       "      <td>/ORGANIZATION/-THE-ONE-OF-THEM-INC-</td>\n",
       "      <td>/funding-round/650b8f704416801069bb178a1418776b</td>\n",
       "      <td>venture</td>\n",
       "      <td>B</td>\n",
       "      <td>30-01-2014</td>\n",
       "      <td>3406878.0</td>\n",
       "    </tr>\n",
       "    <tr>\n",
       "      <th>4</th>\n",
       "      <td>/organization/0-6-com</td>\n",
       "      <td>/funding-round/5727accaeaa57461bd22a9bdd945382d</td>\n",
       "      <td>venture</td>\n",
       "      <td>A</td>\n",
       "      <td>19-03-2008</td>\n",
       "      <td>2000000.0</td>\n",
       "    </tr>\n",
       "  </tbody>\n",
       "</table>\n",
       "</div>"
      ],
      "text/plain": [
       "                     company_permalink  \\\n",
       "0                  /organization/-fame   \n",
       "1               /ORGANIZATION/-QOUNTER   \n",
       "2               /organization/-qounter   \n",
       "3  /ORGANIZATION/-THE-ONE-OF-THEM-INC-   \n",
       "4                /organization/0-6-com   \n",
       "\n",
       "                           funding_round_permalink funding_round_type  \\\n",
       "0  /funding-round/9a01d05418af9f794eebff7ace91f638            venture   \n",
       "1  /funding-round/22dacff496eb7acb2b901dec1dfe5633            venture   \n",
       "2  /funding-round/b44fbb94153f6cdef13083530bb48030               seed   \n",
       "3  /funding-round/650b8f704416801069bb178a1418776b            venture   \n",
       "4  /funding-round/5727accaeaa57461bd22a9bdd945382d            venture   \n",
       "\n",
       "  funding_round_code   funded_at  raised_amount_usd  \n",
       "0                  B  05-01-2015         10000000.0  \n",
       "1                  A  14-10-2014                NaN  \n",
       "2                NaN  01-03-2014           700000.0  \n",
       "3                  B  30-01-2014          3406878.0  \n",
       "4                  A  19-03-2008          2000000.0  "
      ]
     },
     "execution_count": 3,
     "metadata": {},
     "output_type": "execute_result"
    }
   ],
   "source": [
    "####Import rounds2 dataset...\n",
    "rounds2 = pd.read_csv(\"rounds2.csv\",encoding = \"ANSI\")\n",
    "rounds2.head()"
   ]
  },
  {
   "cell_type": "code",
   "execution_count": 4,
   "metadata": {},
   "outputs": [
    {
     "data": {
      "text/html": [
       "<div>\n",
       "<style>\n",
       "    .dataframe thead tr:only-child th {\n",
       "        text-align: right;\n",
       "    }\n",
       "\n",
       "    .dataframe thead th {\n",
       "        text-align: left;\n",
       "    }\n",
       "\n",
       "    .dataframe tbody tr th {\n",
       "        vertical-align: top;\n",
       "    }\n",
       "</style>\n",
       "<table border=\"1\" class=\"dataframe\">\n",
       "  <thead>\n",
       "    <tr style=\"text-align: right;\">\n",
       "      <th></th>\n",
       "      <th>permalink</th>\n",
       "      <th>name</th>\n",
       "      <th>homepage_url</th>\n",
       "      <th>category_list</th>\n",
       "      <th>status</th>\n",
       "      <th>country_code</th>\n",
       "      <th>state_code</th>\n",
       "      <th>region</th>\n",
       "      <th>city</th>\n",
       "      <th>founded_at</th>\n",
       "    </tr>\n",
       "  </thead>\n",
       "  <tbody>\n",
       "    <tr>\n",
       "      <th>0</th>\n",
       "      <td>/organization/-fame</td>\n",
       "      <td>#fame</td>\n",
       "      <td>http://livfame.com</td>\n",
       "      <td>Media</td>\n",
       "      <td>operating</td>\n",
       "      <td>IND</td>\n",
       "      <td>16</td>\n",
       "      <td>Mumbai</td>\n",
       "      <td>Mumbai</td>\n",
       "      <td>NaN</td>\n",
       "    </tr>\n",
       "    <tr>\n",
       "      <th>1</th>\n",
       "      <td>/organization/-qounter</td>\n",
       "      <td>:Qounter</td>\n",
       "      <td>http://www.qounter.com</td>\n",
       "      <td>Application Platforms|Real Time|Social Network...</td>\n",
       "      <td>operating</td>\n",
       "      <td>USA</td>\n",
       "      <td>DE</td>\n",
       "      <td>DE - Other</td>\n",
       "      <td>Delaware City</td>\n",
       "      <td>04-09-2014</td>\n",
       "    </tr>\n",
       "    <tr>\n",
       "      <th>2</th>\n",
       "      <td>/organization/-the-one-of-them-inc-</td>\n",
       "      <td>(THE) ONE of THEM,Inc.</td>\n",
       "      <td>http://oneofthem.jp</td>\n",
       "      <td>Apps|Games|Mobile</td>\n",
       "      <td>operating</td>\n",
       "      <td>NaN</td>\n",
       "      <td>NaN</td>\n",
       "      <td>NaN</td>\n",
       "      <td>NaN</td>\n",
       "      <td>NaN</td>\n",
       "    </tr>\n",
       "    <tr>\n",
       "      <th>3</th>\n",
       "      <td>/organization/0-6-com</td>\n",
       "      <td>0-6.com</td>\n",
       "      <td>http://www.0-6.com</td>\n",
       "      <td>Curated Web</td>\n",
       "      <td>operating</td>\n",
       "      <td>CHN</td>\n",
       "      <td>22</td>\n",
       "      <td>Beijing</td>\n",
       "      <td>Beijing</td>\n",
       "      <td>01-01-2007</td>\n",
       "    </tr>\n",
       "    <tr>\n",
       "      <th>4</th>\n",
       "      <td>/organization/004-technologies</td>\n",
       "      <td>004 Technologies</td>\n",
       "      <td>http://004gmbh.de/en/004-interact</td>\n",
       "      <td>Software</td>\n",
       "      <td>operating</td>\n",
       "      <td>USA</td>\n",
       "      <td>IL</td>\n",
       "      <td>Springfield, Illinois</td>\n",
       "      <td>Champaign</td>\n",
       "      <td>01-01-2010</td>\n",
       "    </tr>\n",
       "  </tbody>\n",
       "</table>\n",
       "</div>"
      ],
      "text/plain": [
       "                             permalink                    name  \\\n",
       "0                  /organization/-fame                   #fame   \n",
       "1               /organization/-qounter                :Qounter   \n",
       "2  /organization/-the-one-of-them-inc-  (THE) ONE of THEM,Inc.   \n",
       "3                /organization/0-6-com                 0-6.com   \n",
       "4       /organization/004-technologies        004 Technologies   \n",
       "\n",
       "                        homepage_url  \\\n",
       "0                 http://livfame.com   \n",
       "1             http://www.qounter.com   \n",
       "2                http://oneofthem.jp   \n",
       "3                 http://www.0-6.com   \n",
       "4  http://004gmbh.de/en/004-interact   \n",
       "\n",
       "                                       category_list     status country_code  \\\n",
       "0                                              Media  operating          IND   \n",
       "1  Application Platforms|Real Time|Social Network...  operating          USA   \n",
       "2                                  Apps|Games|Mobile  operating          NaN   \n",
       "3                                        Curated Web  operating          CHN   \n",
       "4                                           Software  operating          USA   \n",
       "\n",
       "  state_code                 region           city  founded_at  \n",
       "0         16                 Mumbai         Mumbai         NaN  \n",
       "1         DE             DE - Other  Delaware City  04-09-2014  \n",
       "2        NaN                    NaN            NaN         NaN  \n",
       "3         22                Beijing        Beijing  01-01-2007  \n",
       "4         IL  Springfield, Illinois      Champaign  01-01-2010  "
      ]
     },
     "execution_count": 4,
     "metadata": {},
     "output_type": "execute_result"
    }
   ],
   "source": [
    "####As some unique keys are in lowercase and some in uppercase and to avoid merging issues going forward\n",
    "####convert to lowercase for uniformity\n",
    "def toLowerCase(x):\n",
    "    return(x.lower())\n",
    "\n",
    "companies['permalink']=companies['permalink'].apply(toLowerCase)\n",
    "rounds2['company_permalink']=rounds2['company_permalink'].apply(toLowerCase)\n",
    "companies.head()"
   ]
  },
  {
   "cell_type": "code",
   "execution_count": 5,
   "metadata": {},
   "outputs": [
    {
     "data": {
      "text/html": [
       "<div>\n",
       "<style>\n",
       "    .dataframe thead tr:only-child th {\n",
       "        text-align: right;\n",
       "    }\n",
       "\n",
       "    .dataframe thead th {\n",
       "        text-align: left;\n",
       "    }\n",
       "\n",
       "    .dataframe tbody tr th {\n",
       "        vertical-align: top;\n",
       "    }\n",
       "</style>\n",
       "<table border=\"1\" class=\"dataframe\">\n",
       "  <thead>\n",
       "    <tr style=\"text-align: right;\">\n",
       "      <th></th>\n",
       "      <th>company_permalink</th>\n",
       "      <th>funding_round_permalink</th>\n",
       "      <th>funding_round_type</th>\n",
       "      <th>funding_round_code</th>\n",
       "      <th>funded_at</th>\n",
       "      <th>raised_amount_usd</th>\n",
       "    </tr>\n",
       "  </thead>\n",
       "  <tbody>\n",
       "    <tr>\n",
       "      <th>0</th>\n",
       "      <td>/organization/-fame</td>\n",
       "      <td>/funding-round/9a01d05418af9f794eebff7ace91f638</td>\n",
       "      <td>venture</td>\n",
       "      <td>B</td>\n",
       "      <td>05-01-2015</td>\n",
       "      <td>10000000.0</td>\n",
       "    </tr>\n",
       "    <tr>\n",
       "      <th>1</th>\n",
       "      <td>/organization/-qounter</td>\n",
       "      <td>/funding-round/22dacff496eb7acb2b901dec1dfe5633</td>\n",
       "      <td>venture</td>\n",
       "      <td>A</td>\n",
       "      <td>14-10-2014</td>\n",
       "      <td>NaN</td>\n",
       "    </tr>\n",
       "    <tr>\n",
       "      <th>2</th>\n",
       "      <td>/organization/-qounter</td>\n",
       "      <td>/funding-round/b44fbb94153f6cdef13083530bb48030</td>\n",
       "      <td>seed</td>\n",
       "      <td>NaN</td>\n",
       "      <td>01-03-2014</td>\n",
       "      <td>700000.0</td>\n",
       "    </tr>\n",
       "    <tr>\n",
       "      <th>3</th>\n",
       "      <td>/organization/-the-one-of-them-inc-</td>\n",
       "      <td>/funding-round/650b8f704416801069bb178a1418776b</td>\n",
       "      <td>venture</td>\n",
       "      <td>B</td>\n",
       "      <td>30-01-2014</td>\n",
       "      <td>3406878.0</td>\n",
       "    </tr>\n",
       "    <tr>\n",
       "      <th>4</th>\n",
       "      <td>/organization/0-6-com</td>\n",
       "      <td>/funding-round/5727accaeaa57461bd22a9bdd945382d</td>\n",
       "      <td>venture</td>\n",
       "      <td>A</td>\n",
       "      <td>19-03-2008</td>\n",
       "      <td>2000000.0</td>\n",
       "    </tr>\n",
       "  </tbody>\n",
       "</table>\n",
       "</div>"
      ],
      "text/plain": [
       "                     company_permalink  \\\n",
       "0                  /organization/-fame   \n",
       "1               /organization/-qounter   \n",
       "2               /organization/-qounter   \n",
       "3  /organization/-the-one-of-them-inc-   \n",
       "4                /organization/0-6-com   \n",
       "\n",
       "                           funding_round_permalink funding_round_type  \\\n",
       "0  /funding-round/9a01d05418af9f794eebff7ace91f638            venture   \n",
       "1  /funding-round/22dacff496eb7acb2b901dec1dfe5633            venture   \n",
       "2  /funding-round/b44fbb94153f6cdef13083530bb48030               seed   \n",
       "3  /funding-round/650b8f704416801069bb178a1418776b            venture   \n",
       "4  /funding-round/5727accaeaa57461bd22a9bdd945382d            venture   \n",
       "\n",
       "  funding_round_code   funded_at  raised_amount_usd  \n",
       "0                  B  05-01-2015         10000000.0  \n",
       "1                  A  14-10-2014                NaN  \n",
       "2                NaN  01-03-2014           700000.0  \n",
       "3                  B  30-01-2014          3406878.0  \n",
       "4                  A  19-03-2008          2000000.0  "
      ]
     },
     "execution_count": 5,
     "metadata": {},
     "output_type": "execute_result"
    }
   ],
   "source": [
    "rounds2.head()"
   ]
  },
  {
   "cell_type": "code",
   "execution_count": 6,
   "metadata": {},
   "outputs": [
    {
     "name": "stdout",
     "output_type": "stream",
     "text": [
      "<class 'pandas.core.frame.DataFrame'>\n",
      "RangeIndex: 114949 entries, 0 to 114948\n",
      "Data columns (total 6 columns):\n",
      "company_permalink          114949 non-null object\n",
      "funding_round_permalink    114949 non-null object\n",
      "funding_round_type         114949 non-null object\n",
      "funding_round_code         31140 non-null object\n",
      "funded_at                  114949 non-null object\n",
      "raised_amount_usd          94959 non-null float64\n",
      "dtypes: float64(1), object(5)\n",
      "memory usage: 5.3+ MB\n"
     ]
    }
   ],
   "source": [
    "####Investigating the quality of data in rounds2 dataset\n",
    "rounds2.info()"
   ]
  },
  {
   "cell_type": "markdown",
   "metadata": {},
   "source": [
    "###### Now that we have the data imported lets do some sanity checks on it"
   ]
  },
  {
   "cell_type": "markdown",
   "metadata": {
    "collapsed": true
   },
   "source": [
    "# Checkpoint 1 - Sanity Checks"
   ]
  },
  {
   "cell_type": "markdown",
   "metadata": {},
   "source": [
    "### How many unique companies are present in rounds2?"
   ]
  },
  {
   "cell_type": "code",
   "execution_count": 7,
   "metadata": {},
   "outputs": [
    {
     "data": {
      "text/plain": [
       "66368"
      ]
     },
     "execution_count": 7,
     "metadata": {},
     "output_type": "execute_result"
    }
   ],
   "source": [
    "rounds2['company_permalink'].nunique()"
   ]
  },
  {
   "cell_type": "markdown",
   "metadata": {},
   "source": [
    "### How many unique companies are present in the companies file?"
   ]
  },
  {
   "cell_type": "code",
   "execution_count": 8,
   "metadata": {},
   "outputs": [
    {
     "data": {
      "text/plain": [
       "66368"
      ]
     },
     "execution_count": 8,
     "metadata": {},
     "output_type": "execute_result"
    }
   ],
   "source": [
    "companies['permalink'].nunique()"
   ]
  },
  {
   "cell_type": "markdown",
   "metadata": {},
   "source": [
    "### In the companies data frame, which column can be used as the  unique key for each company? Write the name of the column."
   ]
  },
  {
   "cell_type": "code",
   "execution_count": 9,
   "metadata": {},
   "outputs": [
    {
     "name": "stdout",
     "output_type": "stream",
     "text": [
      "<class 'pandas.core.frame.DataFrame'>\n",
      "RangeIndex: 66368 entries, 0 to 66367\n",
      "Data columns (total 10 columns):\n",
      "permalink        66368 non-null object\n",
      "name             66367 non-null object\n",
      "homepage_url     61310 non-null object\n",
      "category_list    63220 non-null object\n",
      "status           66368 non-null object\n",
      "country_code     59410 non-null object\n",
      "state_code       57821 non-null object\n",
      "region           58338 non-null object\n",
      "city             58340 non-null object\n",
      "founded_at       51147 non-null object\n",
      "dtypes: object(10)\n",
      "memory usage: 5.1+ MB\n"
     ]
    }
   ],
   "source": [
    "companies.info()"
   ]
  },
  {
   "cell_type": "markdown",
   "metadata": {},
   "source": [
    "### Are there any companies in the rounds2 file which are not  present in companies ?"
   ]
  },
  {
   "cell_type": "code",
   "execution_count": 10,
   "metadata": {},
   "outputs": [
    {
     "data": {
      "text/plain": [
       "0"
      ]
     },
     "execution_count": 10,
     "metadata": {},
     "output_type": "execute_result"
    }
   ],
   "source": [
    "merged=pd.merge(rounds2, companies, how='left', left_on = 'company_permalink', right_on = 'permalink',indicator=True)\n",
    "merged[merged['_merge'] =='left_only'].size"
   ]
  },
  {
   "cell_type": "markdown",
   "metadata": {},
   "source": [
    "### Merge the two data frames so that all  variables (columns)  in the companies frame are added to the rounds2 data frame. Name the merged frame master_frame. How many observations are present in master_frame ?"
   ]
  },
  {
   "cell_type": "code",
   "execution_count": 11,
   "metadata": {},
   "outputs": [
    {
     "data": {
      "text/plain": [
       "(114949, 16)"
      ]
     },
     "execution_count": 11,
     "metadata": {},
     "output_type": "execute_result"
    }
   ],
   "source": [
    "master_frame=pd.merge(rounds2, companies, how='inner', left_on = 'company_permalink', right_on = 'permalink')\n",
    "master_frame.shape"
   ]
  },
  {
   "cell_type": "code",
   "execution_count": 12,
   "metadata": {
    "collapsed": true
   },
   "outputs": [],
   "source": [
    "#master_frame.to_csv(\"master.csv\", encoding=\"ANSI\")"
   ]
  },
  {
   "cell_type": "code",
   "execution_count": 13,
   "metadata": {},
   "outputs": [
    {
     "data": {
      "text/html": [
       "<div>\n",
       "<style>\n",
       "    .dataframe thead tr:only-child th {\n",
       "        text-align: right;\n",
       "    }\n",
       "\n",
       "    .dataframe thead th {\n",
       "        text-align: left;\n",
       "    }\n",
       "\n",
       "    .dataframe tbody tr th {\n",
       "        vertical-align: top;\n",
       "    }\n",
       "</style>\n",
       "<table border=\"1\" class=\"dataframe\">\n",
       "  <thead>\n",
       "    <tr style=\"text-align: right;\">\n",
       "      <th></th>\n",
       "      <th>company_permalink</th>\n",
       "      <th>funding_round_permalink</th>\n",
       "      <th>funding_round_type</th>\n",
       "      <th>funding_round_code</th>\n",
       "      <th>funded_at</th>\n",
       "      <th>raised_amount_usd</th>\n",
       "      <th>permalink</th>\n",
       "      <th>name</th>\n",
       "      <th>homepage_url</th>\n",
       "      <th>category_list</th>\n",
       "      <th>status</th>\n",
       "      <th>country_code</th>\n",
       "      <th>state_code</th>\n",
       "      <th>region</th>\n",
       "      <th>city</th>\n",
       "      <th>founded_at</th>\n",
       "    </tr>\n",
       "  </thead>\n",
       "  <tbody>\n",
       "    <tr>\n",
       "      <th>0</th>\n",
       "      <td>/organization/-fame</td>\n",
       "      <td>/funding-round/9a01d05418af9f794eebff7ace91f638</td>\n",
       "      <td>venture</td>\n",
       "      <td>B</td>\n",
       "      <td>05-01-2015</td>\n",
       "      <td>10000000.0</td>\n",
       "      <td>/organization/-fame</td>\n",
       "      <td>#fame</td>\n",
       "      <td>http://livfame.com</td>\n",
       "      <td>Media</td>\n",
       "      <td>operating</td>\n",
       "      <td>IND</td>\n",
       "      <td>16</td>\n",
       "      <td>Mumbai</td>\n",
       "      <td>Mumbai</td>\n",
       "      <td>NaN</td>\n",
       "    </tr>\n",
       "    <tr>\n",
       "      <th>1</th>\n",
       "      <td>/organization/-qounter</td>\n",
       "      <td>/funding-round/22dacff496eb7acb2b901dec1dfe5633</td>\n",
       "      <td>venture</td>\n",
       "      <td>A</td>\n",
       "      <td>14-10-2014</td>\n",
       "      <td>NaN</td>\n",
       "      <td>/organization/-qounter</td>\n",
       "      <td>:Qounter</td>\n",
       "      <td>http://www.qounter.com</td>\n",
       "      <td>Application Platforms|Real Time|Social Network...</td>\n",
       "      <td>operating</td>\n",
       "      <td>USA</td>\n",
       "      <td>DE</td>\n",
       "      <td>DE - Other</td>\n",
       "      <td>Delaware City</td>\n",
       "      <td>04-09-2014</td>\n",
       "    </tr>\n",
       "    <tr>\n",
       "      <th>2</th>\n",
       "      <td>/organization/-qounter</td>\n",
       "      <td>/funding-round/b44fbb94153f6cdef13083530bb48030</td>\n",
       "      <td>seed</td>\n",
       "      <td>NaN</td>\n",
       "      <td>01-03-2014</td>\n",
       "      <td>700000.0</td>\n",
       "      <td>/organization/-qounter</td>\n",
       "      <td>:Qounter</td>\n",
       "      <td>http://www.qounter.com</td>\n",
       "      <td>Application Platforms|Real Time|Social Network...</td>\n",
       "      <td>operating</td>\n",
       "      <td>USA</td>\n",
       "      <td>DE</td>\n",
       "      <td>DE - Other</td>\n",
       "      <td>Delaware City</td>\n",
       "      <td>04-09-2014</td>\n",
       "    </tr>\n",
       "    <tr>\n",
       "      <th>3</th>\n",
       "      <td>/organization/-the-one-of-them-inc-</td>\n",
       "      <td>/funding-round/650b8f704416801069bb178a1418776b</td>\n",
       "      <td>venture</td>\n",
       "      <td>B</td>\n",
       "      <td>30-01-2014</td>\n",
       "      <td>3406878.0</td>\n",
       "      <td>/organization/-the-one-of-them-inc-</td>\n",
       "      <td>(THE) ONE of THEM,Inc.</td>\n",
       "      <td>http://oneofthem.jp</td>\n",
       "      <td>Apps|Games|Mobile</td>\n",
       "      <td>operating</td>\n",
       "      <td>NaN</td>\n",
       "      <td>NaN</td>\n",
       "      <td>NaN</td>\n",
       "      <td>NaN</td>\n",
       "      <td>NaN</td>\n",
       "    </tr>\n",
       "    <tr>\n",
       "      <th>4</th>\n",
       "      <td>/organization/0-6-com</td>\n",
       "      <td>/funding-round/5727accaeaa57461bd22a9bdd945382d</td>\n",
       "      <td>venture</td>\n",
       "      <td>A</td>\n",
       "      <td>19-03-2008</td>\n",
       "      <td>2000000.0</td>\n",
       "      <td>/organization/0-6-com</td>\n",
       "      <td>0-6.com</td>\n",
       "      <td>http://www.0-6.com</td>\n",
       "      <td>Curated Web</td>\n",
       "      <td>operating</td>\n",
       "      <td>CHN</td>\n",
       "      <td>22</td>\n",
       "      <td>Beijing</td>\n",
       "      <td>Beijing</td>\n",
       "      <td>01-01-2007</td>\n",
       "    </tr>\n",
       "  </tbody>\n",
       "</table>\n",
       "</div>"
      ],
      "text/plain": [
       "                     company_permalink  \\\n",
       "0                  /organization/-fame   \n",
       "1               /organization/-qounter   \n",
       "2               /organization/-qounter   \n",
       "3  /organization/-the-one-of-them-inc-   \n",
       "4                /organization/0-6-com   \n",
       "\n",
       "                           funding_round_permalink funding_round_type  \\\n",
       "0  /funding-round/9a01d05418af9f794eebff7ace91f638            venture   \n",
       "1  /funding-round/22dacff496eb7acb2b901dec1dfe5633            venture   \n",
       "2  /funding-round/b44fbb94153f6cdef13083530bb48030               seed   \n",
       "3  /funding-round/650b8f704416801069bb178a1418776b            venture   \n",
       "4  /funding-round/5727accaeaa57461bd22a9bdd945382d            venture   \n",
       "\n",
       "  funding_round_code   funded_at  raised_amount_usd  \\\n",
       "0                  B  05-01-2015         10000000.0   \n",
       "1                  A  14-10-2014                NaN   \n",
       "2                NaN  01-03-2014           700000.0   \n",
       "3                  B  30-01-2014          3406878.0   \n",
       "4                  A  19-03-2008          2000000.0   \n",
       "\n",
       "                             permalink                    name  \\\n",
       "0                  /organization/-fame                   #fame   \n",
       "1               /organization/-qounter                :Qounter   \n",
       "2               /organization/-qounter                :Qounter   \n",
       "3  /organization/-the-one-of-them-inc-  (THE) ONE of THEM,Inc.   \n",
       "4                /organization/0-6-com                 0-6.com   \n",
       "\n",
       "             homepage_url                                      category_list  \\\n",
       "0      http://livfame.com                                              Media   \n",
       "1  http://www.qounter.com  Application Platforms|Real Time|Social Network...   \n",
       "2  http://www.qounter.com  Application Platforms|Real Time|Social Network...   \n",
       "3     http://oneofthem.jp                                  Apps|Games|Mobile   \n",
       "4      http://www.0-6.com                                        Curated Web   \n",
       "\n",
       "      status country_code state_code      region           city  founded_at  \n",
       "0  operating          IND         16      Mumbai         Mumbai         NaN  \n",
       "1  operating          USA         DE  DE - Other  Delaware City  04-09-2014  \n",
       "2  operating          USA         DE  DE - Other  Delaware City  04-09-2014  \n",
       "3  operating          NaN        NaN         NaN            NaN         NaN  \n",
       "4  operating          CHN         22     Beijing        Beijing  01-01-2007  "
      ]
     },
     "execution_count": 13,
     "metadata": {},
     "output_type": "execute_result"
    }
   ],
   "source": [
    "master_frame.head()"
   ]
  },
  {
   "cell_type": "markdown",
   "metadata": {},
   "source": [
    "###### Now that we have created a master datafarme from companies and funding dataset, we will go  ahead and perform some data cleansing activities"
   ]
  },
  {
   "cell_type": "markdown",
   "metadata": {},
   "source": [
    "# Checkpoint 2 - Best Funding Type"
   ]
  },
  {
   "cell_type": "markdown",
   "metadata": {},
   "source": [
    "#### Data Cleansing - for funding analysis let's filter out the rows that doesn't have funding type and amount value .... for other places where data is unavailble, we will make them as \"Not Available\""
   ]
  },
  {
   "cell_type": "code",
   "execution_count": 14,
   "metadata": {},
   "outputs": [
    {
     "name": "stdout",
     "output_type": "stream",
     "text": [
      "<class 'pandas.core.frame.DataFrame'>\n",
      "Int64Index: 114949 entries, 0 to 114948\n",
      "Data columns (total 16 columns):\n",
      "company_permalink          114949 non-null object\n",
      "funding_round_permalink    114949 non-null object\n",
      "funding_round_type         114949 non-null object\n",
      "funding_round_code         31140 non-null object\n",
      "funded_at                  114949 non-null object\n",
      "raised_amount_usd          94959 non-null float64\n",
      "permalink                  114949 non-null object\n",
      "name                       114948 non-null object\n",
      "homepage_url               108815 non-null object\n",
      "category_list              111539 non-null object\n",
      "status                     114949 non-null object\n",
      "country_code               106271 non-null object\n",
      "state_code                 104003 non-null object\n",
      "region                     104782 non-null object\n",
      "city                       104785 non-null object\n",
      "founded_at                 94428 non-null object\n",
      "dtypes: float64(1), object(15)\n",
      "memory usage: 14.9+ MB\n"
     ]
    }
   ],
   "source": [
    "####Keeping only the required columns for further analysis\n",
    "master_frame.info()"
   ]
  },
  {
   "cell_type": "code",
   "execution_count": 15,
   "metadata": {},
   "outputs": [
    {
     "name": "stdout",
     "output_type": "stream",
     "text": [
      "<class 'pandas.core.frame.DataFrame'>\n",
      "Int64Index: 94959 entries, 0 to 114948\n",
      "Data columns (total 16 columns):\n",
      "company_permalink          94959 non-null object\n",
      "funding_round_permalink    94959 non-null object\n",
      "funding_round_type         94959 non-null object\n",
      "funding_round_code         28169 non-null object\n",
      "funded_at                  94959 non-null object\n",
      "raised_amount_usd          94959 non-null float64\n",
      "permalink                  94959 non-null object\n",
      "name                       94958 non-null object\n",
      "homepage_url               90627 non-null object\n",
      "category_list              93915 non-null object\n",
      "status                     94959 non-null object\n",
      "country_code               89108 non-null object\n",
      "state_code                 87355 non-null object\n",
      "region                     87911 non-null object\n",
      "city                       87914 non-null object\n",
      "founded_at                 78993 non-null object\n",
      "dtypes: float64(1), object(15)\n",
      "memory usage: 12.3+ MB\n"
     ]
    }
   ],
   "source": [
    "####Removing rows where amount is not present\n",
    "master_frame=master_frame[~np.isnan(master_frame['raised_amount_usd'])]\n",
    "master_frame.info()"
   ]
  },
  {
   "cell_type": "code",
   "execution_count": 16,
   "metadata": {},
   "outputs": [
    {
     "name": "stdout",
     "output_type": "stream",
     "text": [
      "<class 'pandas.core.frame.DataFrame'>\n",
      "Int64Index: 94959 entries, 0 to 114948\n",
      "Data columns (total 10 columns):\n",
      "company_permalink          94959 non-null object\n",
      "funding_round_permalink    94959 non-null object\n",
      "funding_round_type         94959 non-null object\n",
      "raised_amount_usd          94959 non-null float64\n",
      "name                       94959 non-null object\n",
      "homepage_url               94959 non-null object\n",
      "category_list              94959 non-null object\n",
      "status                     94959 non-null object\n",
      "country_code               94959 non-null object\n",
      "city                       94959 non-null object\n",
      "dtypes: float64(1), object(9)\n",
      "memory usage: 8.0+ MB\n"
     ]
    }
   ],
   "source": [
    "####Keep only the required data\n",
    "####Mark \"Not Available\" where data is not provided...used in filtering clause going forward\n",
    "master_frame=master_frame[['company_permalink','funding_round_permalink','funding_round_type',\n",
    "                           'raised_amount_usd','name','homepage_url','category_list',\n",
    "                           'status','country_code','city']]\n",
    "master_frame.loc[master_frame.name.isnull(),'name']='Not Available'\n",
    "master_frame.loc[master_frame.homepage_url.isnull(),'homepage_url']='Not Available'\n",
    "master_frame.loc[master_frame.category_list.isnull(),'category_list']='Not Available'\n",
    "master_frame.loc[master_frame.country_code.isnull(),'country_code']='Not Available'\n",
    "master_frame.loc[master_frame.city.isnull(),'city']='Not Available'\n",
    "master_frame.info()"
   ]
  },
  {
   "cell_type": "markdown",
   "metadata": {},
   "source": [
    "##### Lets now calculate the average amount in each funding type as we are constrainted with 5-15 M USD per round of investment"
   ]
  },
  {
   "cell_type": "markdown",
   "metadata": {},
   "source": [
    "### Average funding amount "
   ]
  },
  {
   "cell_type": "code",
   "execution_count": 17,
   "metadata": {},
   "outputs": [
    {
     "data": {
      "text/html": [
       "<div>\n",
       "<style>\n",
       "    .dataframe thead tr:only-child th {\n",
       "        text-align: right;\n",
       "    }\n",
       "\n",
       "    .dataframe thead th {\n",
       "        text-align: left;\n",
       "    }\n",
       "\n",
       "    .dataframe tbody tr th {\n",
       "        vertical-align: top;\n",
       "    }\n",
       "</style>\n",
       "<table border=\"1\" class=\"dataframe\">\n",
       "  <thead>\n",
       "    <tr style=\"text-align: right;\">\n",
       "      <th></th>\n",
       "      <th>company_permalink</th>\n",
       "      <th>funding_round_permalink</th>\n",
       "      <th>funding_round_type</th>\n",
       "      <th>raised_amount_usd</th>\n",
       "      <th>name</th>\n",
       "      <th>homepage_url</th>\n",
       "      <th>category_list</th>\n",
       "      <th>status</th>\n",
       "      <th>country_code</th>\n",
       "      <th>city</th>\n",
       "    </tr>\n",
       "  </thead>\n",
       "  <tbody>\n",
       "    <tr>\n",
       "      <th>0</th>\n",
       "      <td>/organization/-fame</td>\n",
       "      <td>/funding-round/9a01d05418af9f794eebff7ace91f638</td>\n",
       "      <td>venture</td>\n",
       "      <td>10000000.0</td>\n",
       "      <td>#fame</td>\n",
       "      <td>http://livfame.com</td>\n",
       "      <td>Media</td>\n",
       "      <td>operating</td>\n",
       "      <td>IND</td>\n",
       "      <td>Mumbai</td>\n",
       "    </tr>\n",
       "    <tr>\n",
       "      <th>2</th>\n",
       "      <td>/organization/-qounter</td>\n",
       "      <td>/funding-round/b44fbb94153f6cdef13083530bb48030</td>\n",
       "      <td>seed</td>\n",
       "      <td>700000.0</td>\n",
       "      <td>:Qounter</td>\n",
       "      <td>http://www.qounter.com</td>\n",
       "      <td>Application Platforms|Real Time|Social Network...</td>\n",
       "      <td>operating</td>\n",
       "      <td>USA</td>\n",
       "      <td>Delaware City</td>\n",
       "    </tr>\n",
       "    <tr>\n",
       "      <th>3</th>\n",
       "      <td>/organization/-the-one-of-them-inc-</td>\n",
       "      <td>/funding-round/650b8f704416801069bb178a1418776b</td>\n",
       "      <td>venture</td>\n",
       "      <td>3406878.0</td>\n",
       "      <td>(THE) ONE of THEM,Inc.</td>\n",
       "      <td>http://oneofthem.jp</td>\n",
       "      <td>Apps|Games|Mobile</td>\n",
       "      <td>operating</td>\n",
       "      <td>Not Available</td>\n",
       "      <td>Not Available</td>\n",
       "    </tr>\n",
       "    <tr>\n",
       "      <th>4</th>\n",
       "      <td>/organization/0-6-com</td>\n",
       "      <td>/funding-round/5727accaeaa57461bd22a9bdd945382d</td>\n",
       "      <td>venture</td>\n",
       "      <td>2000000.0</td>\n",
       "      <td>0-6.com</td>\n",
       "      <td>http://www.0-6.com</td>\n",
       "      <td>Curated Web</td>\n",
       "      <td>operating</td>\n",
       "      <td>CHN</td>\n",
       "      <td>Beijing</td>\n",
       "    </tr>\n",
       "    <tr>\n",
       "      <th>6</th>\n",
       "      <td>/organization/01games-technology</td>\n",
       "      <td>/funding-round/7d53696f2b4f607a2f2a8cbb83d01839</td>\n",
       "      <td>undisclosed</td>\n",
       "      <td>41250.0</td>\n",
       "      <td>01Games Technology</td>\n",
       "      <td>http://www.01games.hk/</td>\n",
       "      <td>Games</td>\n",
       "      <td>operating</td>\n",
       "      <td>HKG</td>\n",
       "      <td>Hong Kong</td>\n",
       "    </tr>\n",
       "  </tbody>\n",
       "</table>\n",
       "</div>"
      ],
      "text/plain": [
       "                     company_permalink  \\\n",
       "0                  /organization/-fame   \n",
       "2               /organization/-qounter   \n",
       "3  /organization/-the-one-of-them-inc-   \n",
       "4                /organization/0-6-com   \n",
       "6     /organization/01games-technology   \n",
       "\n",
       "                           funding_round_permalink funding_round_type  \\\n",
       "0  /funding-round/9a01d05418af9f794eebff7ace91f638            venture   \n",
       "2  /funding-round/b44fbb94153f6cdef13083530bb48030               seed   \n",
       "3  /funding-round/650b8f704416801069bb178a1418776b            venture   \n",
       "4  /funding-round/5727accaeaa57461bd22a9bdd945382d            venture   \n",
       "6  /funding-round/7d53696f2b4f607a2f2a8cbb83d01839        undisclosed   \n",
       "\n",
       "   raised_amount_usd                    name            homepage_url  \\\n",
       "0         10000000.0                   #fame      http://livfame.com   \n",
       "2           700000.0                :Qounter  http://www.qounter.com   \n",
       "3          3406878.0  (THE) ONE of THEM,Inc.     http://oneofthem.jp   \n",
       "4          2000000.0                 0-6.com      http://www.0-6.com   \n",
       "6            41250.0      01Games Technology  http://www.01games.hk/   \n",
       "\n",
       "                                       category_list     status  \\\n",
       "0                                              Media  operating   \n",
       "2  Application Platforms|Real Time|Social Network...  operating   \n",
       "3                                  Apps|Games|Mobile  operating   \n",
       "4                                        Curated Web  operating   \n",
       "6                                              Games  operating   \n",
       "\n",
       "    country_code           city  \n",
       "0            IND         Mumbai  \n",
       "2            USA  Delaware City  \n",
       "3  Not Available  Not Available  \n",
       "4            CHN        Beijing  \n",
       "6            HKG      Hong Kong  "
      ]
     },
     "execution_count": 17,
     "metadata": {},
     "output_type": "execute_result"
    }
   ],
   "source": [
    "master_frame.head(5)"
   ]
  },
  {
   "cell_type": "code",
   "execution_count": 18,
   "metadata": {},
   "outputs": [
    {
     "data": {
      "text/html": [
       "<div>\n",
       "<style>\n",
       "    .dataframe thead tr:only-child th {\n",
       "        text-align: right;\n",
       "    }\n",
       "\n",
       "    .dataframe thead th {\n",
       "        text-align: left;\n",
       "    }\n",
       "\n",
       "    .dataframe tbody tr th {\n",
       "        vertical-align: top;\n",
       "    }\n",
       "</style>\n",
       "<table border=\"1\" class=\"dataframe\">\n",
       "  <thead>\n",
       "    <tr style=\"text-align: right;\">\n",
       "      <th></th>\n",
       "      <th>count</th>\n",
       "      <th>mean</th>\n",
       "      <th>std</th>\n",
       "      <th>min</th>\n",
       "      <th>25%</th>\n",
       "      <th>50%</th>\n",
       "      <th>75%</th>\n",
       "      <th>max</th>\n",
       "    </tr>\n",
       "    <tr>\n",
       "      <th>funding_round_type</th>\n",
       "      <th></th>\n",
       "      <th></th>\n",
       "      <th></th>\n",
       "      <th></th>\n",
       "      <th></th>\n",
       "      <th></th>\n",
       "      <th></th>\n",
       "      <th></th>\n",
       "    </tr>\n",
       "  </thead>\n",
       "  <tbody>\n",
       "    <tr>\n",
       "      <th>angel</th>\n",
       "      <td>4860.0</td>\n",
       "      <td>9.586945e+05</td>\n",
       "      <td>7.404397e+06</td>\n",
       "      <td>0.0</td>\n",
       "      <td>150000.00</td>\n",
       "      <td>400000.0</td>\n",
       "      <td>1000000.0</td>\n",
       "      <td>4.945120e+08</td>\n",
       "    </tr>\n",
       "    <tr>\n",
       "      <th>convertible_note</th>\n",
       "      <td>1447.0</td>\n",
       "      <td>1.453439e+06</td>\n",
       "      <td>8.043846e+06</td>\n",
       "      <td>0.0</td>\n",
       "      <td>78847.50</td>\n",
       "      <td>272000.0</td>\n",
       "      <td>1000000.0</td>\n",
       "      <td>1.850483e+08</td>\n",
       "    </tr>\n",
       "    <tr>\n",
       "      <th>debt_financing</th>\n",
       "      <td>6682.0</td>\n",
       "      <td>1.704353e+07</td>\n",
       "      <td>2.803204e+08</td>\n",
       "      <td>0.0</td>\n",
       "      <td>330484.25</td>\n",
       "      <td>1100000.0</td>\n",
       "      <td>4000000.0</td>\n",
       "      <td>2.127194e+10</td>\n",
       "    </tr>\n",
       "    <tr>\n",
       "      <th>equity_crowdfunding</th>\n",
       "      <td>1228.0</td>\n",
       "      <td>5.383682e+05</td>\n",
       "      <td>1.719329e+06</td>\n",
       "      <td>0.0</td>\n",
       "      <td>7000.00</td>\n",
       "      <td>100000.0</td>\n",
       "      <td>395901.0</td>\n",
       "      <td>2.740000e+07</td>\n",
       "    </tr>\n",
       "    <tr>\n",
       "      <th>grant</th>\n",
       "      <td>2124.0</td>\n",
       "      <td>4.300576e+06</td>\n",
       "      <td>2.558742e+07</td>\n",
       "      <td>0.0</td>\n",
       "      <td>50000.00</td>\n",
       "      <td>201684.0</td>\n",
       "      <td>1700000.0</td>\n",
       "      <td>7.500000e+08</td>\n",
       "    </tr>\n",
       "    <tr>\n",
       "      <th>non_equity_assistance</th>\n",
       "      <td>73.0</td>\n",
       "      <td>4.112031e+05</td>\n",
       "      <td>1.771747e+06</td>\n",
       "      <td>0.0</td>\n",
       "      <td>25000.00</td>\n",
       "      <td>60000.0</td>\n",
       "      <td>125000.0</td>\n",
       "      <td>1.500000e+07</td>\n",
       "    </tr>\n",
       "    <tr>\n",
       "      <th>post_ipo_debt</th>\n",
       "      <td>152.0</td>\n",
       "      <td>1.687046e+08</td>\n",
       "      <td>6.024738e+08</td>\n",
       "      <td>70000.0</td>\n",
       "      <td>4000000.00</td>\n",
       "      <td>19950000.0</td>\n",
       "      <td>60000000.0</td>\n",
       "      <td>5.800000e+09</td>\n",
       "    </tr>\n",
       "    <tr>\n",
       "      <th>post_ipo_equity</th>\n",
       "      <td>628.0</td>\n",
       "      <td>8.218249e+07</td>\n",
       "      <td>4.691889e+08</td>\n",
       "      <td>77.0</td>\n",
       "      <td>3764794.00</td>\n",
       "      <td>12262852.5</td>\n",
       "      <td>40000000.0</td>\n",
       "      <td>1.066494e+10</td>\n",
       "    </tr>\n",
       "    <tr>\n",
       "      <th>private_equity</th>\n",
       "      <td>1936.0</td>\n",
       "      <td>7.330859e+07</td>\n",
       "      <td>1.981135e+08</td>\n",
       "      <td>0.0</td>\n",
       "      <td>5000000.00</td>\n",
       "      <td>20000000.0</td>\n",
       "      <td>75000000.0</td>\n",
       "      <td>4.745460e+09</td>\n",
       "    </tr>\n",
       "    <tr>\n",
       "      <th>product_crowdfunding</th>\n",
       "      <td>386.0</td>\n",
       "      <td>1.363131e+06</td>\n",
       "      <td>4.698380e+06</td>\n",
       "      <td>0.0</td>\n",
       "      <td>40241.75</td>\n",
       "      <td>183915.0</td>\n",
       "      <td>735000.0</td>\n",
       "      <td>5.200000e+07</td>\n",
       "    </tr>\n",
       "    <tr>\n",
       "      <th>secondary_market</th>\n",
       "      <td>30.0</td>\n",
       "      <td>7.964963e+07</td>\n",
       "      <td>1.401038e+08</td>\n",
       "      <td>2323.0</td>\n",
       "      <td>5025000.00</td>\n",
       "      <td>32600000.0</td>\n",
       "      <td>84475000.0</td>\n",
       "      <td>6.806116e+08</td>\n",
       "    </tr>\n",
       "    <tr>\n",
       "      <th>seed</th>\n",
       "      <td>23603.0</td>\n",
       "      <td>7.198180e+05</td>\n",
       "      <td>2.221733e+06</td>\n",
       "      <td>0.0</td>\n",
       "      <td>55000.00</td>\n",
       "      <td>275000.0</td>\n",
       "      <td>1000000.0</td>\n",
       "      <td>2.000000e+08</td>\n",
       "    </tr>\n",
       "    <tr>\n",
       "      <th>undisclosed</th>\n",
       "      <td>1582.0</td>\n",
       "      <td>1.924237e+07</td>\n",
       "      <td>1.993238e+08</td>\n",
       "      <td>0.0</td>\n",
       "      <td>220000.00</td>\n",
       "      <td>1018680.0</td>\n",
       "      <td>4848804.0</td>\n",
       "      <td>5.000000e+09</td>\n",
       "    </tr>\n",
       "    <tr>\n",
       "      <th>venture</th>\n",
       "      <td>50228.0</td>\n",
       "      <td>1.174895e+07</td>\n",
       "      <td>8.635207e+07</td>\n",
       "      <td>0.0</td>\n",
       "      <td>1600901.75</td>\n",
       "      <td>5000000.0</td>\n",
       "      <td>12000000.0</td>\n",
       "      <td>1.760000e+10</td>\n",
       "    </tr>\n",
       "  </tbody>\n",
       "</table>\n",
       "</div>"
      ],
      "text/plain": [
       "                         count          mean           std      min  \\\n",
       "funding_round_type                                                    \n",
       "angel                   4860.0  9.586945e+05  7.404397e+06      0.0   \n",
       "convertible_note        1447.0  1.453439e+06  8.043846e+06      0.0   \n",
       "debt_financing          6682.0  1.704353e+07  2.803204e+08      0.0   \n",
       "equity_crowdfunding     1228.0  5.383682e+05  1.719329e+06      0.0   \n",
       "grant                   2124.0  4.300576e+06  2.558742e+07      0.0   \n",
       "non_equity_assistance     73.0  4.112031e+05  1.771747e+06      0.0   \n",
       "post_ipo_debt            152.0  1.687046e+08  6.024738e+08  70000.0   \n",
       "post_ipo_equity          628.0  8.218249e+07  4.691889e+08     77.0   \n",
       "private_equity          1936.0  7.330859e+07  1.981135e+08      0.0   \n",
       "product_crowdfunding     386.0  1.363131e+06  4.698380e+06      0.0   \n",
       "secondary_market          30.0  7.964963e+07  1.401038e+08   2323.0   \n",
       "seed                   23603.0  7.198180e+05  2.221733e+06      0.0   \n",
       "undisclosed             1582.0  1.924237e+07  1.993238e+08      0.0   \n",
       "venture                50228.0  1.174895e+07  8.635207e+07      0.0   \n",
       "\n",
       "                              25%         50%         75%           max  \n",
       "funding_round_type                                                       \n",
       "angel                   150000.00    400000.0   1000000.0  4.945120e+08  \n",
       "convertible_note         78847.50    272000.0   1000000.0  1.850483e+08  \n",
       "debt_financing          330484.25   1100000.0   4000000.0  2.127194e+10  \n",
       "equity_crowdfunding       7000.00    100000.0    395901.0  2.740000e+07  \n",
       "grant                    50000.00    201684.0   1700000.0  7.500000e+08  \n",
       "non_equity_assistance    25000.00     60000.0    125000.0  1.500000e+07  \n",
       "post_ipo_debt          4000000.00  19950000.0  60000000.0  5.800000e+09  \n",
       "post_ipo_equity        3764794.00  12262852.5  40000000.0  1.066494e+10  \n",
       "private_equity         5000000.00  20000000.0  75000000.0  4.745460e+09  \n",
       "product_crowdfunding     40241.75    183915.0    735000.0  5.200000e+07  \n",
       "secondary_market       5025000.00  32600000.0  84475000.0  6.806116e+08  \n",
       "seed                     55000.00    275000.0   1000000.0  2.000000e+08  \n",
       "undisclosed             220000.00   1018680.0   4848804.0  5.000000e+09  \n",
       "venture                1600901.75   5000000.0  12000000.0  1.760000e+10  "
      ]
     },
     "execution_count": 18,
     "metadata": {},
     "output_type": "execute_result"
    }
   ],
   "source": [
    "####Grouping by funding round type\n",
    "df_by_funding = master_frame.groupby('funding_round_type')\n",
    "df_by_funding['raised_amount_usd'].describe()"
   ]
  },
  {
   "cell_type": "code",
   "execution_count": 19,
   "metadata": {},
   "outputs": [
    {
     "data": {
      "text/html": [
       "<div>\n",
       "<style>\n",
       "    .dataframe thead tr:only-child th {\n",
       "        text-align: right;\n",
       "    }\n",
       "\n",
       "    .dataframe thead th {\n",
       "        text-align: left;\n",
       "    }\n",
       "\n",
       "    .dataframe tbody tr th {\n",
       "        vertical-align: top;\n",
       "    }\n",
       "</style>\n",
       "<table border=\"1\" class=\"dataframe\">\n",
       "  <thead>\n",
       "    <tr style=\"text-align: right;\">\n",
       "      <th></th>\n",
       "      <th>raised_amount_usd</th>\n",
       "    </tr>\n",
       "    <tr>\n",
       "      <th>funding_round_type</th>\n",
       "      <th></th>\n",
       "    </tr>\n",
       "  </thead>\n",
       "  <tbody>\n",
       "    <tr>\n",
       "      <th>venture</th>\n",
       "      <td>1.174895e+07</td>\n",
       "    </tr>\n",
       "    <tr>\n",
       "      <th>angel</th>\n",
       "      <td>9.586945e+05</td>\n",
       "    </tr>\n",
       "    <tr>\n",
       "      <th>seed</th>\n",
       "      <td>7.198180e+05</td>\n",
       "    </tr>\n",
       "    <tr>\n",
       "      <th>private_equity</th>\n",
       "      <td>7.330859e+07</td>\n",
       "    </tr>\n",
       "  </tbody>\n",
       "</table>\n",
       "</div>"
      ],
      "text/plain": [
       "                    raised_amount_usd\n",
       "funding_round_type                   \n",
       "venture                  1.174895e+07\n",
       "angel                    9.586945e+05\n",
       "seed                     7.198180e+05\n",
       "private_equity           7.330859e+07"
      ]
     },
     "execution_count": 19,
     "metadata": {},
     "output_type": "execute_result"
    }
   ],
   "source": [
    "####Finding avg funding amount for funding types and filter based on the required types\n",
    "filteredDF=pd.DataFrame(df_by_funding['raised_amount_usd'].mean())\n",
    "filteredDF.loc[['venture','angel','seed','private_equity'],:]"
   ]
  },
  {
   "cell_type": "code",
   "execution_count": 20,
   "metadata": {},
   "outputs": [
    {
     "data": {
      "text/html": [
       "<div>\n",
       "<style>\n",
       "    .dataframe thead tr:only-child th {\n",
       "        text-align: right;\n",
       "    }\n",
       "\n",
       "    .dataframe thead th {\n",
       "        text-align: left;\n",
       "    }\n",
       "\n",
       "    .dataframe tbody tr th {\n",
       "        vertical-align: top;\n",
       "    }\n",
       "</style>\n",
       "<table border=\"1\" class=\"dataframe\">\n",
       "  <thead>\n",
       "    <tr style=\"text-align: right;\">\n",
       "      <th></th>\n",
       "      <th>raised_amount_usd</th>\n",
       "    </tr>\n",
       "    <tr>\n",
       "      <th>funding_round_type</th>\n",
       "      <th></th>\n",
       "    </tr>\n",
       "  </thead>\n",
       "  <tbody>\n",
       "    <tr>\n",
       "      <th>venture</th>\n",
       "      <td>1.174895e+07</td>\n",
       "    </tr>\n",
       "  </tbody>\n",
       "</table>\n",
       "</div>"
      ],
      "text/plain": [
       "                    raised_amount_usd\n",
       "funding_round_type                   \n",
       "venture                  1.174895e+07"
      ]
     },
     "execution_count": 20,
     "metadata": {},
     "output_type": "execute_result"
    }
   ],
   "source": [
    "####Filtering based on the investment criteria amount between 5 and 15 million\n",
    "filteredDF[(filteredDF.raised_amount_usd >= 5000000 ) & (filteredDF.raised_amount_usd <= 15000000 )]"
   ]
  },
  {
   "cell_type": "code",
   "execution_count": 21,
   "metadata": {},
   "outputs": [
    {
     "data": {
      "text/plain": [
       "(50228, 10)"
      ]
     },
     "execution_count": 21,
     "metadata": {},
     "output_type": "execute_result"
    }
   ],
   "source": [
    "####Looks like venture funding fits our investment criteria\n",
    "####Filter only venture funding data\n",
    "master_frame=master_frame[master_frame['funding_round_type']=='venture']\n",
    "master_frame.shape"
   ]
  },
  {
   "cell_type": "markdown",
   "metadata": {},
   "source": [
    "##### Based on the above results its clear that Venture funding is the suitable most type for us. So accordingly we are keeping only the venture funding data going forward and continue our analysis in finding most investment friendly countries"
   ]
  },
  {
   "cell_type": "markdown",
   "metadata": {},
   "source": [
    "# Checkpoint 3 - Top English speaking Heavily invested Countries "
   ]
  },
  {
   "cell_type": "markdown",
   "metadata": {},
   "source": [
    "#### Data Cleansing - Since are performing country analysis, lets remove the rows that doesnt have country information "
   ]
  },
  {
   "cell_type": "code",
   "execution_count": 22,
   "metadata": {},
   "outputs": [
    {
     "name": "stdout",
     "output_type": "stream",
     "text": [
      "<class 'pandas.core.frame.DataFrame'>\n",
      "Int64Index: 50228 entries, 0 to 114941\n",
      "Data columns (total 10 columns):\n",
      "company_permalink          50228 non-null object\n",
      "funding_round_permalink    50228 non-null object\n",
      "funding_round_type         50228 non-null object\n",
      "raised_amount_usd          50228 non-null float64\n",
      "name                       50228 non-null object\n",
      "homepage_url               50228 non-null object\n",
      "category_list              50228 non-null object\n",
      "status                     50228 non-null object\n",
      "country_code               50228 non-null object\n",
      "city                       50228 non-null object\n",
      "dtypes: float64(1), object(9)\n",
      "memory usage: 4.2+ MB\n"
     ]
    }
   ],
   "source": [
    "####For country analysis\n",
    "master_frame.info()"
   ]
  },
  {
   "cell_type": "code",
   "execution_count": 23,
   "metadata": {},
   "outputs": [
    {
     "name": "stdout",
     "output_type": "stream",
     "text": [
      "<class 'pandas.core.frame.DataFrame'>\n",
      "Int64Index: 48111 entries, 0 to 114941\n",
      "Data columns (total 10 columns):\n",
      "company_permalink          48111 non-null object\n",
      "funding_round_permalink    48111 non-null object\n",
      "funding_round_type         48111 non-null object\n",
      "raised_amount_usd          48111 non-null float64\n",
      "name                       48111 non-null object\n",
      "homepage_url               48111 non-null object\n",
      "category_list              48111 non-null object\n",
      "status                     48111 non-null object\n",
      "country_code               48111 non-null object\n",
      "city                       48111 non-null object\n",
      "dtypes: float64(1), object(9)\n",
      "memory usage: 4.0+ MB\n"
     ]
    }
   ],
   "source": [
    "####Since our investment criteria involves country as well, lets filter data where the country is mentioned\n",
    "master_frame=master_frame[~(master_frame.country_code=='Not Available')]\n",
    "#master_frame.dropna(subset=['country_code'], inplace=True)\n",
    "master_frame.info()"
   ]
  },
  {
   "cell_type": "code",
   "execution_count": 24,
   "metadata": {},
   "outputs": [
    {
     "data": {
      "text/html": [
       "<div>\n",
       "<style>\n",
       "    .dataframe thead tr:only-child th {\n",
       "        text-align: right;\n",
       "    }\n",
       "\n",
       "    .dataframe thead th {\n",
       "        text-align: left;\n",
       "    }\n",
       "\n",
       "    .dataframe tbody tr th {\n",
       "        vertical-align: top;\n",
       "    }\n",
       "</style>\n",
       "<table border=\"1\" class=\"dataframe\">\n",
       "  <thead>\n",
       "    <tr style=\"text-align: right;\">\n",
       "      <th></th>\n",
       "      <th>country_code</th>\n",
       "      <th>amount(Billions)</th>\n",
       "    </tr>\n",
       "  </thead>\n",
       "  <tbody>\n",
       "    <tr>\n",
       "      <th>0</th>\n",
       "      <td>USA</td>\n",
       "      <td>422.510843</td>\n",
       "    </tr>\n",
       "    <tr>\n",
       "      <th>1</th>\n",
       "      <td>CHN</td>\n",
       "      <td>39.835419</td>\n",
       "    </tr>\n",
       "    <tr>\n",
       "      <th>2</th>\n",
       "      <td>GBR</td>\n",
       "      <td>20.245627</td>\n",
       "    </tr>\n",
       "    <tr>\n",
       "      <th>3</th>\n",
       "      <td>IND</td>\n",
       "      <td>14.391859</td>\n",
       "    </tr>\n",
       "    <tr>\n",
       "      <th>4</th>\n",
       "      <td>CAN</td>\n",
       "      <td>9.583332</td>\n",
       "    </tr>\n",
       "    <tr>\n",
       "      <th>5</th>\n",
       "      <td>FRA</td>\n",
       "      <td>7.259537</td>\n",
       "    </tr>\n",
       "    <tr>\n",
       "      <th>6</th>\n",
       "      <td>ISR</td>\n",
       "      <td>6.907515</td>\n",
       "    </tr>\n",
       "    <tr>\n",
       "      <th>7</th>\n",
       "      <td>DEU</td>\n",
       "      <td>6.346960</td>\n",
       "    </tr>\n",
       "    <tr>\n",
       "      <th>8</th>\n",
       "      <td>JPN</td>\n",
       "      <td>3.363677</td>\n",
       "    </tr>\n",
       "  </tbody>\n",
       "</table>\n",
       "</div>"
      ],
      "text/plain": [
       "  country_code  amount(Billions)\n",
       "0          USA        422.510843\n",
       "1          CHN         39.835419\n",
       "2          GBR         20.245627\n",
       "3          IND         14.391859\n",
       "4          CAN          9.583332\n",
       "5          FRA          7.259537\n",
       "6          ISR          6.907515\n",
       "7          DEU          6.346960\n",
       "8          JPN          3.363677"
      ]
     },
     "execution_count": 24,
     "metadata": {},
     "output_type": "execute_result"
    }
   ],
   "source": [
    "####Filtering top nine countries which have received the highest total funding \n",
    "top9=master_frame.groupby('country_code').sum().sort_values(by='raised_amount_usd',ascending=False).head(9)\n",
    "top9=top9.reset_index()\n",
    "top9['raised_amount_usd']=top9['raised_amount_usd']/1000000000\n",
    "top9.rename(columns={'raised_amount_usd':'amount(Billions)'}, inplace=True)\n",
    "top9"
   ]
  },
  {
   "cell_type": "code",
   "execution_count": 25,
   "metadata": {
    "collapsed": true
   },
   "outputs": [],
   "source": [
    "####Data containing top three most English speaking investment-friendly countries\n",
    "master_frame=master_frame[master_frame['country_code'].isin(['USA','GBR','IND'])]"
   ]
  },
  {
   "cell_type": "markdown",
   "metadata": {},
   "source": [
    "##### Based on our overall strategy to invest where others are investing, implying that the 'best' sectors and countries are the ones 'where most investors are investing',we have identified the top 3 English speaking countries. For further analysis we have filtered data based on Venture funding and the top 3 English speaking countries to find out the best performing sectors in the selected countries\n"
   ]
  },
  {
   "cell_type": "markdown",
   "metadata": {},
   "source": [
    "# Checkpoint 4 - Sector analysis"
   ]
  },
  {
   "cell_type": "markdown",
   "metadata": {},
   "source": [
    "#### Data Cleansing - Since there are lot of primary sectors, we will map them to their main sectors and continue our analysis on that"
   ]
  },
  {
   "cell_type": "code",
   "execution_count": 26,
   "metadata": {},
   "outputs": [
    {
     "name": "stdout",
     "output_type": "stream",
     "text": [
      "<class 'pandas.core.frame.DataFrame'>\n",
      "Int64Index: 39018 entries, 0 to 114936\n",
      "Data columns (total 10 columns):\n",
      "company_permalink          39018 non-null object\n",
      "funding_round_permalink    39018 non-null object\n",
      "funding_round_type         39018 non-null object\n",
      "raised_amount_usd          39018 non-null float64\n",
      "name                       39018 non-null object\n",
      "homepage_url               39018 non-null object\n",
      "category_list              39018 non-null object\n",
      "status                     39018 non-null object\n",
      "country_code               39018 non-null object\n",
      "city                       39018 non-null object\n",
      "dtypes: float64(1), object(9)\n",
      "memory usage: 3.3+ MB\n"
     ]
    }
   ],
   "source": [
    "####For sector analysis\n",
    "master_frame.info()"
   ]
  },
  {
   "cell_type": "code",
   "execution_count": 27,
   "metadata": {
    "collapsed": true
   },
   "outputs": [],
   "source": [
    "####As per business rule, first string before the vertical bar will be considered the primary sector\n",
    "master_frame['category_list']=master_frame['category_list'].astype(str)\n",
    "master_frame['category_list']=master_frame['category_list'].apply(lambda x:x.split(\"|\")[0])\n",
    "master_frame['category_list']=master_frame['category_list'].apply(toLowerCase)"
   ]
  },
  {
   "cell_type": "code",
   "execution_count": 28,
   "metadata": {},
   "outputs": [
    {
     "name": "stdout",
     "output_type": "stream",
     "text": [
      "  category_list  Automotive & Sports  Blanks  Cleantech / Semiconductors  \\\n",
      "0           NaN                    0       1                           0   \n",
      "1            3D                    0       0                           0   \n",
      "\n",
      "   Entertainment  Health  Manufacturing  News, Search and Messaging  Others  \\\n",
      "0              0       0              0                           0       0   \n",
      "1              0       0              1                           0       0   \n",
      "\n",
      "   Social, Finance, Analytics, Advertising  \n",
      "0                                        0  \n",
      "1                                        0  \n",
      "Sum-> 1\n"
     ]
    }
   ],
   "source": [
    "####Loading mapping data and check if unwanted data is present\n",
    "mappings = pd.read_csv(\"mapping.csv\")\n",
    "print(mappings.head(2))\n",
    "print(\"Sum->\", mappings.Blanks.sum())"
   ]
  },
  {
   "cell_type": "code",
   "execution_count": 29,
   "metadata": {},
   "outputs": [
    {
     "data": {
      "text/html": [
       "<div>\n",
       "<style>\n",
       "    .dataframe thead tr:only-child th {\n",
       "        text-align: right;\n",
       "    }\n",
       "\n",
       "    .dataframe thead th {\n",
       "        text-align: left;\n",
       "    }\n",
       "\n",
       "    .dataframe tbody tr th {\n",
       "        vertical-align: top;\n",
       "    }\n",
       "</style>\n",
       "<table border=\"1\" class=\"dataframe\">\n",
       "  <thead>\n",
       "    <tr style=\"text-align: right;\">\n",
       "      <th></th>\n",
       "      <th>category_list</th>\n",
       "      <th>Automotive &amp; Sports</th>\n",
       "      <th>Cleantech / Semiconductors</th>\n",
       "      <th>Entertainment</th>\n",
       "      <th>Health</th>\n",
       "      <th>Manufacturing</th>\n",
       "      <th>News, Search and Messaging</th>\n",
       "      <th>Others</th>\n",
       "      <th>Social, Finance, Analytics, Advertising</th>\n",
       "    </tr>\n",
       "  </thead>\n",
       "  <tbody>\n",
       "    <tr>\n",
       "      <th>1</th>\n",
       "      <td>3d</td>\n",
       "      <td>0</td>\n",
       "      <td>0</td>\n",
       "      <td>0</td>\n",
       "      <td>0</td>\n",
       "      <td>1</td>\n",
       "      <td>0</td>\n",
       "      <td>0</td>\n",
       "      <td>0</td>\n",
       "    </tr>\n",
       "    <tr>\n",
       "      <th>2</th>\n",
       "      <td>3d printing</td>\n",
       "      <td>0</td>\n",
       "      <td>0</td>\n",
       "      <td>0</td>\n",
       "      <td>0</td>\n",
       "      <td>1</td>\n",
       "      <td>0</td>\n",
       "      <td>0</td>\n",
       "      <td>0</td>\n",
       "    </tr>\n",
       "    <tr>\n",
       "      <th>3</th>\n",
       "      <td>3d technology</td>\n",
       "      <td>0</td>\n",
       "      <td>0</td>\n",
       "      <td>0</td>\n",
       "      <td>0</td>\n",
       "      <td>1</td>\n",
       "      <td>0</td>\n",
       "      <td>0</td>\n",
       "      <td>0</td>\n",
       "    </tr>\n",
       "    <tr>\n",
       "      <th>4</th>\n",
       "      <td>accounting</td>\n",
       "      <td>0</td>\n",
       "      <td>0</td>\n",
       "      <td>0</td>\n",
       "      <td>0</td>\n",
       "      <td>0</td>\n",
       "      <td>0</td>\n",
       "      <td>0</td>\n",
       "      <td>1</td>\n",
       "    </tr>\n",
       "    <tr>\n",
       "      <th>5</th>\n",
       "      <td>active lifestyle</td>\n",
       "      <td>0</td>\n",
       "      <td>0</td>\n",
       "      <td>0</td>\n",
       "      <td>1</td>\n",
       "      <td>0</td>\n",
       "      <td>0</td>\n",
       "      <td>0</td>\n",
       "      <td>0</td>\n",
       "    </tr>\n",
       "  </tbody>\n",
       "</table>\n",
       "</div>"
      ],
      "text/plain": [
       "      category_list  Automotive & Sports  Cleantech / Semiconductors  \\\n",
       "1                3d                    0                           0   \n",
       "2       3d printing                    0                           0   \n",
       "3     3d technology                    0                           0   \n",
       "4        accounting                    0                           0   \n",
       "5  active lifestyle                    0                           0   \n",
       "\n",
       "   Entertainment  Health  Manufacturing  News, Search and Messaging  Others  \\\n",
       "1              0       0              1                           0       0   \n",
       "2              0       0              1                           0       0   \n",
       "3              0       0              1                           0       0   \n",
       "4              0       0              0                           0       0   \n",
       "5              0       1              0                           0       0   \n",
       "\n",
       "   Social, Finance, Analytics, Advertising  \n",
       "1                                        0  \n",
       "2                                        0  \n",
       "3                                        0  \n",
       "4                                        1  \n",
       "5                                        0  "
      ]
     },
     "execution_count": 29,
     "metadata": {},
     "output_type": "execute_result"
    }
   ],
   "source": [
    "####Remove unwanted data....i.e Blanks column and NaN in category_list\n",
    "####Convert to lowercase for uniformity before merging\n",
    "mappings.dropna(inplace=True)\n",
    "mappings.drop('Blanks', axis=1, inplace=True)\n",
    "mappings['category_list']=mappings['category_list'].apply(toLowerCase)\n",
    "mappings.head(5)"
   ]
  },
  {
   "cell_type": "code",
   "execution_count": 30,
   "metadata": {},
   "outputs": [
    {
     "name": "stdout",
     "output_type": "stream",
     "text": [
      "In Master-> {'3d printing', 'm2m', 'enterprise 2.0', 'b2b', '3d', '3d technology', 'p2p money transfer'}\n",
      "======================================================================================================\n",
      "In Mappings-> {'a0lytics', 'supply chain ma0gement', 'career ma0gement', 'm2m', 'can0bis', 'jour0lism', 'medical professio0ls', 'energy ma0gement', '0tural resources', '3d', 'it ma0gement', '0vigation', 'mobile a0lytics', 'fi0nce technology', '0tural language processing', '3d printing', 'fleet ma0gement', 'perso0lization', 'project ma0gement', 'k-12 education', 'b2b', 'gover0nce', 'identity ma0gement', 'innovation ma0gement', 'digital rights ma0gement', 'perso0l data', 'educatio0l games', 'professio0l networking', 'investment ma0gement', 'digital sig0ge', 'veteri0ry', 'fi0ncial exchanges', 'business a0lytics', 'enterprise 2.0', 'social media ma0gement', 'intellectual asset ma0gement', 'fi0nce', 'event ma0gement', 'lead ma0gement', 'big data a0lytics', '0notechnology', 'contact ma0gement', 'knowledge ma0gement', 'chi0 internet', 'alter0tive medicine', 'risk ma0gement', 'professio0l services', 'b2b express delivery', 'perso0l fi0nce', 'predictive a0lytics', 'cloud ma0gement', 'perso0l branding', 'waste ma0gement', 'perso0l health', 'task ma0gement', 'property ma0gement', 'promotio0l', 'fi0ncial services', '3d technology', 'p2p money transfer', 'document ma0gement'}\n"
     ]
    }
   ],
   "source": [
    "####Check for characters that might be invalid in the category(0123456789!@#%^*)\n",
    "####Collect the information in a separate set\n",
    "verifyCategoryWordsinMasterSet=set()\n",
    "verifyCategoryWordsinMappingSet=set()\n",
    "import re\n",
    "numRegex=re.compile(r'[0123456789!@#%^*]')\n",
    "\n",
    "\n",
    "def verifyWords(category,s):\n",
    "    global numRegex\n",
    "    if (numRegex.search(category)):\n",
    "        s.add(category)\n",
    "    return category\n",
    "\n",
    "master_frame['category_list'].apply(lambda x: verifyWords(x,verifyCategoryWordsinMasterSet))\n",
    "mappings['category_list'].apply(lambda x: verifyWords(x,verifyCategoryWordsinMappingSet))\n",
    "print(\"In Master->\" ,verifyCategoryWordsinMasterSet)\n",
    "print(\"======================================================================================================\")\n",
    "print(\"In Mappings->\", verifyCategoryWordsinMappingSet)"
   ]
  },
  {
   "cell_type": "code",
   "execution_count": 31,
   "metadata": {},
   "outputs": [
    {
     "data": {
      "text/html": [
       "<div>\n",
       "<style>\n",
       "    .dataframe thead tr:only-child th {\n",
       "        text-align: right;\n",
       "    }\n",
       "\n",
       "    .dataframe thead th {\n",
       "        text-align: left;\n",
       "    }\n",
       "\n",
       "    .dataframe tbody tr th {\n",
       "        vertical-align: top;\n",
       "    }\n",
       "</style>\n",
       "<table border=\"1\" class=\"dataframe\">\n",
       "  <thead>\n",
       "    <tr style=\"text-align: right;\">\n",
       "      <th></th>\n",
       "      <th>category_list</th>\n",
       "      <th>Automotive &amp; Sports</th>\n",
       "      <th>Cleantech / Semiconductors</th>\n",
       "      <th>Entertainment</th>\n",
       "      <th>Health</th>\n",
       "      <th>Manufacturing</th>\n",
       "      <th>News, Search and Messaging</th>\n",
       "      <th>Others</th>\n",
       "      <th>Social, Finance, Analytics, Advertising</th>\n",
       "      <th>main_sector</th>\n",
       "    </tr>\n",
       "  </thead>\n",
       "  <tbody>\n",
       "    <tr>\n",
       "      <th>1</th>\n",
       "      <td>3d</td>\n",
       "      <td>0</td>\n",
       "      <td>0</td>\n",
       "      <td>0</td>\n",
       "      <td>0</td>\n",
       "      <td>1</td>\n",
       "      <td>0</td>\n",
       "      <td>0</td>\n",
       "      <td>0</td>\n",
       "      <td>Manufacturing</td>\n",
       "    </tr>\n",
       "    <tr>\n",
       "      <th>2</th>\n",
       "      <td>3d printing</td>\n",
       "      <td>0</td>\n",
       "      <td>0</td>\n",
       "      <td>0</td>\n",
       "      <td>0</td>\n",
       "      <td>1</td>\n",
       "      <td>0</td>\n",
       "      <td>0</td>\n",
       "      <td>0</td>\n",
       "      <td>Manufacturing</td>\n",
       "    </tr>\n",
       "    <tr>\n",
       "      <th>3</th>\n",
       "      <td>3d technology</td>\n",
       "      <td>0</td>\n",
       "      <td>0</td>\n",
       "      <td>0</td>\n",
       "      <td>0</td>\n",
       "      <td>1</td>\n",
       "      <td>0</td>\n",
       "      <td>0</td>\n",
       "      <td>0</td>\n",
       "      <td>Manufacturing</td>\n",
       "    </tr>\n",
       "    <tr>\n",
       "      <th>4</th>\n",
       "      <td>accounting</td>\n",
       "      <td>0</td>\n",
       "      <td>0</td>\n",
       "      <td>0</td>\n",
       "      <td>0</td>\n",
       "      <td>0</td>\n",
       "      <td>0</td>\n",
       "      <td>0</td>\n",
       "      <td>1</td>\n",
       "      <td>Social, Finance, Analytics, Advertising</td>\n",
       "    </tr>\n",
       "    <tr>\n",
       "      <th>5</th>\n",
       "      <td>active lifestyle</td>\n",
       "      <td>0</td>\n",
       "      <td>0</td>\n",
       "      <td>0</td>\n",
       "      <td>1</td>\n",
       "      <td>0</td>\n",
       "      <td>0</td>\n",
       "      <td>0</td>\n",
       "      <td>0</td>\n",
       "      <td>Health</td>\n",
       "    </tr>\n",
       "  </tbody>\n",
       "</table>\n",
       "</div>"
      ],
      "text/plain": [
       "      category_list  Automotive & Sports  Cleantech / Semiconductors  \\\n",
       "1                3d                    0                           0   \n",
       "2       3d printing                    0                           0   \n",
       "3     3d technology                    0                           0   \n",
       "4        accounting                    0                           0   \n",
       "5  active lifestyle                    0                           0   \n",
       "\n",
       "   Entertainment  Health  Manufacturing  News, Search and Messaging  Others  \\\n",
       "1              0       0              1                           0       0   \n",
       "2              0       0              1                           0       0   \n",
       "3              0       0              1                           0       0   \n",
       "4              0       0              0                           0       0   \n",
       "5              0       1              0                           0       0   \n",
       "\n",
       "   Social, Finance, Analytics, Advertising  \\\n",
       "1                                        0   \n",
       "2                                        0   \n",
       "3                                        0   \n",
       "4                                        1   \n",
       "5                                        0   \n",
       "\n",
       "                               main_sector  \n",
       "1                            Manufacturing  \n",
       "2                            Manufacturing  \n",
       "3                            Manufacturing  \n",
       "4  Social, Finance, Analytics, Advertising  \n",
       "5                                   Health  "
      ]
     },
     "execution_count": 31,
     "metadata": {},
     "output_type": "execute_result"
    }
   ],
   "source": [
    "####In lot of categories 'na' has been replaced with '0'....Lets correct that\n",
    "####Convert the dummy variables back into a separate column\n",
    "mappings['category_list']=mappings['category_list'].str.replace('0','na')\n",
    "mappings['main_sector'] = mappings.iloc[:,1:9].idxmax(axis=1)\n",
    "mappings.head(5)\n",
    "#mappings.to_csv(\"mappingscheck.csv\", encoding=\"ANSI\")"
   ]
  },
  {
   "cell_type": "code",
   "execution_count": 32,
   "metadata": {},
   "outputs": [
    {
     "data": {
      "text/html": [
       "<div>\n",
       "<style>\n",
       "    .dataframe thead tr:only-child th {\n",
       "        text-align: right;\n",
       "    }\n",
       "\n",
       "    .dataframe thead th {\n",
       "        text-align: left;\n",
       "    }\n",
       "\n",
       "    .dataframe tbody tr th {\n",
       "        vertical-align: top;\n",
       "    }\n",
       "</style>\n",
       "<table border=\"1\" class=\"dataframe\">\n",
       "  <thead>\n",
       "    <tr style=\"text-align: right;\">\n",
       "      <th></th>\n",
       "      <th>category_list</th>\n",
       "      <th>main_sector</th>\n",
       "    </tr>\n",
       "  </thead>\n",
       "  <tbody>\n",
       "    <tr>\n",
       "      <th>1</th>\n",
       "      <td>3d</td>\n",
       "      <td>Manufacturing</td>\n",
       "    </tr>\n",
       "    <tr>\n",
       "      <th>2</th>\n",
       "      <td>3d printing</td>\n",
       "      <td>Manufacturing</td>\n",
       "    </tr>\n",
       "    <tr>\n",
       "      <th>3</th>\n",
       "      <td>3d technology</td>\n",
       "      <td>Manufacturing</td>\n",
       "    </tr>\n",
       "    <tr>\n",
       "      <th>4</th>\n",
       "      <td>accounting</td>\n",
       "      <td>Social, Finance, Analytics, Advertising</td>\n",
       "    </tr>\n",
       "    <tr>\n",
       "      <th>5</th>\n",
       "      <td>active lifestyle</td>\n",
       "      <td>Health</td>\n",
       "    </tr>\n",
       "  </tbody>\n",
       "</table>\n",
       "</div>"
      ],
      "text/plain": [
       "      category_list                              main_sector\n",
       "1                3d                            Manufacturing\n",
       "2       3d printing                            Manufacturing\n",
       "3     3d technology                            Manufacturing\n",
       "4        accounting  Social, Finance, Analytics, Advertising\n",
       "5  active lifestyle                                   Health"
      ]
     },
     "execution_count": 32,
     "metadata": {},
     "output_type": "execute_result"
    }
   ],
   "source": [
    "####Keep only the required columns\n",
    "mappings=mappings[['category_list','main_sector']]\n",
    "mappings.head()"
   ]
  },
  {
   "cell_type": "code",
   "execution_count": 33,
   "metadata": {},
   "outputs": [
    {
     "data": {
      "text/plain": [
       "category_list\n",
       "adaptive equipment                   2\n",
       "biotechnology and semiconductor      1\n",
       "enterprise 2.0                       4\n",
       "greentech                            1\n",
       "natural gas uses                     1\n",
       "not available                      215\n",
       "product search                       1\n",
       "racing                               1\n",
       "rapidly expanding                    1\n",
       "retirement                           2\n",
       "specialty retail                     1\n",
       "Name: category_list, dtype: int64"
      ]
     },
     "execution_count": 33,
     "metadata": {},
     "output_type": "execute_result"
    }
   ],
   "source": [
    "####Look for any further discrepancies if the main_sector is merged with master dataframe\n",
    "master_frame1=pd.merge(master_frame, mappings, how='left', on = 'category_list', indicator=True)\n",
    "master_frame1=master_frame1[master_frame1['_merge'] !='both']\n",
    "by_category=master_frame1.groupby(['category_list'])\n",
    "by_category.category_list.count()"
   ]
  },
  {
   "cell_type": "code",
   "execution_count": 34,
   "metadata": {},
   "outputs": [
    {
     "name": "stdout",
     "output_type": "stream",
     "text": [
      "<class 'pandas.core.frame.DataFrame'>\n",
      "Int64Index: 38788 entries, 0 to 38787\n",
      "Data columns (total 11 columns):\n",
      "company_permalink          38788 non-null object\n",
      "funding_round_permalink    38788 non-null object\n",
      "funding_round_type         38788 non-null object\n",
      "raised_amount_usd          38788 non-null float64\n",
      "name                       38788 non-null object\n",
      "homepage_url               38788 non-null object\n",
      "category_list              38788 non-null object\n",
      "status                     38788 non-null object\n",
      "country_code               38788 non-null object\n",
      "city                       38788 non-null object\n",
      "main_sector                38788 non-null object\n",
      "dtypes: float64(1), object(10)\n",
      "memory usage: 3.6+ MB\n"
     ]
    }
   ],
   "source": [
    "####Barring the \"Not Available\" records, only few of them are not mapped to its main_sector.\n",
    "####Merge the main_sector into the master dataframe on inner join in order to filter above discrepancies\n",
    "master_frame=pd.merge(master_frame, mappings, how='inner', on = 'category_list')\n",
    "master_frame.info()"
   ]
  },
  {
   "cell_type": "markdown",
   "metadata": {},
   "source": [
    "##### Now the master dataframe contains both primary and main sectors. We can continue our analysis with the best performing main sector  "
   ]
  },
  {
   "cell_type": "markdown",
   "metadata": {},
   "source": [
    "# Checkpoint 5 - Best Sectors in the top 3 contries"
   ]
  },
  {
   "cell_type": "code",
   "execution_count": 35,
   "metadata": {
    "collapsed": true
   },
   "outputs": [],
   "source": [
    "####Preferred funding by Spark Funds is 5 to 15 million USD.So lets filter based on the investment amt\n",
    "####Create DataFrames D1,D2,D3 corresponding to top3 investment friendly countries\n",
    "\n",
    "D1=master_frame[(master_frame.country_code=='USA') & \n",
    "                (master_frame.raised_amount_usd>=5000000) &\n",
    "                (master_frame.raised_amount_usd<= 15000000)]\n",
    "\n",
    "D2=master_frame[(master_frame.country_code=='GBR') & \n",
    "                (master_frame.raised_amount_usd>=5000000) &\n",
    "                (master_frame.raised_amount_usd<= 15000000)]\n",
    "\n",
    "D3=master_frame[(master_frame.country_code=='IND') & \n",
    "                (master_frame.raised_amount_usd>=5000000) &\n",
    "                (master_frame.raised_amount_usd<= 15000000)]\n",
    "\n",
    "####include total number of investments - total_number, for each main sector in separate column\n",
    "####include total amount invested in each main sector - total_amount, in a separate column\n",
    "\n",
    "number1=D1.groupby('main_sector')[\"raised_amount_usd\"].agg([(\"total_number\",'count'),\n",
    "                                                            (\"total_amount\",'sum')]).reset_index()\n",
    "D1 = pd.merge(D1,number1,on='main_sector')\n",
    "\n",
    "number2=D2.groupby('main_sector')[\"raised_amount_usd\"].agg([(\"total_number\",'count'),\n",
    "                                                            (\"total_amount\",'sum')]).reset_index()\n",
    "D2 = pd.merge(D2,number2,on='main_sector')\n",
    "\n",
    "number3=D3.groupby('main_sector')[\"raised_amount_usd\"].agg([(\"total_number\",'count'),\n",
    "                                                            (\"total_amount\",'sum')]).reset_index()\n",
    "D3 = pd.merge(D3,number3,on='main_sector')"
   ]
  },
  {
   "cell_type": "code",
   "execution_count": 36,
   "metadata": {
    "scrolled": false
   },
   "outputs": [
    {
     "data": {
      "text/html": [
       "<div>\n",
       "<style>\n",
       "    .dataframe thead tr:only-child th {\n",
       "        text-align: right;\n",
       "    }\n",
       "\n",
       "    .dataframe thead th {\n",
       "        text-align: left;\n",
       "    }\n",
       "\n",
       "    .dataframe tbody tr th {\n",
       "        vertical-align: top;\n",
       "    }\n",
       "</style>\n",
       "<table border=\"1\" class=\"dataframe\">\n",
       "  <thead>\n",
       "    <tr style=\"text-align: right;\">\n",
       "      <th></th>\n",
       "      <th>company_permalink</th>\n",
       "      <th>funding_round_permalink</th>\n",
       "      <th>funding_round_type</th>\n",
       "      <th>raised_amount_usd</th>\n",
       "      <th>name</th>\n",
       "      <th>homepage_url</th>\n",
       "      <th>category_list</th>\n",
       "      <th>status</th>\n",
       "      <th>country_code</th>\n",
       "      <th>city</th>\n",
       "      <th>main_sector</th>\n",
       "      <th>total_number</th>\n",
       "      <th>total_amount</th>\n",
       "    </tr>\n",
       "  </thead>\n",
       "  <tbody>\n",
       "    <tr>\n",
       "      <th>0</th>\n",
       "      <td>/organization/all-def-digital</td>\n",
       "      <td>/funding-round/452a2342fe720285c3b92e9bd927d9ba</td>\n",
       "      <td>venture</td>\n",
       "      <td>5000000.0</td>\n",
       "      <td>All Def Digital</td>\n",
       "      <td>http://alldefdigital.com</td>\n",
       "      <td>media</td>\n",
       "      <td>operating</td>\n",
       "      <td>USA</td>\n",
       "      <td>Los Angeles</td>\n",
       "      <td>Entertainment</td>\n",
       "      <td>591</td>\n",
       "      <td>5.099198e+09</td>\n",
       "    </tr>\n",
       "    <tr>\n",
       "      <th>1</th>\n",
       "      <td>/organization/chefs-feed</td>\n",
       "      <td>/funding-round/adca195749ae9ace84684723fbe75e5b</td>\n",
       "      <td>venture</td>\n",
       "      <td>5000000.0</td>\n",
       "      <td>ChefsFeed</td>\n",
       "      <td>http://www.chefsfeed.com</td>\n",
       "      <td>media</td>\n",
       "      <td>operating</td>\n",
       "      <td>USA</td>\n",
       "      <td>San Francisco</td>\n",
       "      <td>Entertainment</td>\n",
       "      <td>591</td>\n",
       "      <td>5.099198e+09</td>\n",
       "    </tr>\n",
       "    <tr>\n",
       "      <th>2</th>\n",
       "      <td>/organization/huffingtonpost</td>\n",
       "      <td>/funding-round/7f05940c4d2dfecb8e50a0e5720e5065</td>\n",
       "      <td>venture</td>\n",
       "      <td>5000000.0</td>\n",
       "      <td>The Huffington Post</td>\n",
       "      <td>http://www.huffingtonpost.com</td>\n",
       "      <td>media</td>\n",
       "      <td>acquired</td>\n",
       "      <td>USA</td>\n",
       "      <td>New York</td>\n",
       "      <td>Entertainment</td>\n",
       "      <td>591</td>\n",
       "      <td>5.099198e+09</td>\n",
       "    </tr>\n",
       "    <tr>\n",
       "      <th>3</th>\n",
       "      <td>/organization/huffingtonpost</td>\n",
       "      <td>/funding-round/9241ae16e08df17ebdc064e49e23035a</td>\n",
       "      <td>venture</td>\n",
       "      <td>5000000.0</td>\n",
       "      <td>The Huffington Post</td>\n",
       "      <td>http://www.huffingtonpost.com</td>\n",
       "      <td>media</td>\n",
       "      <td>acquired</td>\n",
       "      <td>USA</td>\n",
       "      <td>New York</td>\n",
       "      <td>Entertainment</td>\n",
       "      <td>591</td>\n",
       "      <td>5.099198e+09</td>\n",
       "    </tr>\n",
       "    <tr>\n",
       "      <th>4</th>\n",
       "      <td>/organization/matchmine</td>\n",
       "      <td>/funding-round/41ac526630da57ad6eb9d02431b17657</td>\n",
       "      <td>venture</td>\n",
       "      <td>10000000.0</td>\n",
       "      <td>MatchMine</td>\n",
       "      <td>http://matchmine.com</td>\n",
       "      <td>media</td>\n",
       "      <td>closed</td>\n",
       "      <td>USA</td>\n",
       "      <td>Needham</td>\n",
       "      <td>Entertainment</td>\n",
       "      <td>591</td>\n",
       "      <td>5.099198e+09</td>\n",
       "    </tr>\n",
       "  </tbody>\n",
       "</table>\n",
       "</div>"
      ],
      "text/plain": [
       "               company_permalink  \\\n",
       "0  /organization/all-def-digital   \n",
       "1       /organization/chefs-feed   \n",
       "2   /organization/huffingtonpost   \n",
       "3   /organization/huffingtonpost   \n",
       "4        /organization/matchmine   \n",
       "\n",
       "                           funding_round_permalink funding_round_type  \\\n",
       "0  /funding-round/452a2342fe720285c3b92e9bd927d9ba            venture   \n",
       "1  /funding-round/adca195749ae9ace84684723fbe75e5b            venture   \n",
       "2  /funding-round/7f05940c4d2dfecb8e50a0e5720e5065            venture   \n",
       "3  /funding-round/9241ae16e08df17ebdc064e49e23035a            venture   \n",
       "4  /funding-round/41ac526630da57ad6eb9d02431b17657            venture   \n",
       "\n",
       "   raised_amount_usd                 name                   homepage_url  \\\n",
       "0          5000000.0      All Def Digital       http://alldefdigital.com   \n",
       "1          5000000.0            ChefsFeed       http://www.chefsfeed.com   \n",
       "2          5000000.0  The Huffington Post  http://www.huffingtonpost.com   \n",
       "3          5000000.0  The Huffington Post  http://www.huffingtonpost.com   \n",
       "4         10000000.0            MatchMine           http://matchmine.com   \n",
       "\n",
       "  category_list     status country_code           city    main_sector  \\\n",
       "0         media  operating          USA    Los Angeles  Entertainment   \n",
       "1         media  operating          USA  San Francisco  Entertainment   \n",
       "2         media   acquired          USA       New York  Entertainment   \n",
       "3         media   acquired          USA       New York  Entertainment   \n",
       "4         media     closed          USA        Needham  Entertainment   \n",
       "\n",
       "   total_number  total_amount  \n",
       "0           591  5.099198e+09  \n",
       "1           591  5.099198e+09  \n",
       "2           591  5.099198e+09  \n",
       "3           591  5.099198e+09  \n",
       "4           591  5.099198e+09  "
      ]
     },
     "execution_count": 36,
     "metadata": {},
     "output_type": "execute_result"
    }
   ],
   "source": [
    "#D1['total_number'] = D1.groupby('main_sector')['raised_amount_usd'].transform('count')\n",
    "#D1['total_amount'] = D1.groupby('main_sector')['raised_amount_usd'].transform('sum')\n",
    "#D2['total_number'] = D2.groupby('main_sector')['raised_amount_usd'].transform('count')\n",
    "#D2['total_amount'] = D2.groupby('main_sector')['raised_amount_usd'].transform('sum')\n",
    "#D3['total_number'] = D3.groupby('main_sector')['raised_amount_usd'].transform('count')\n",
    "#D3['total_amount'] = D3.groupby('main_sector')['raised_amount_usd'].transform('sum')\n",
    "D1.head(5)"
   ]
  },
  {
   "cell_type": "markdown",
   "metadata": {},
   "source": [
    "##### Country1 Analysis"
   ]
  },
  {
   "cell_type": "code",
   "execution_count": 37,
   "metadata": {},
   "outputs": [
    {
     "name": "stdout",
     "output_type": "stream",
     "text": [
      "main_sector\n",
      "Others                                     [2950]\n",
      "Social, Finance, Analytics, Advertising    [2714]\n",
      "Cleantech / Semiconductors                 [2350]\n",
      "News, Search and Messaging                 [1583]\n",
      "Health                                      [909]\n",
      "Manufacturing                               [799]\n",
      "Entertainment                               [591]\n",
      "Automotive & Sports                         [167]\n",
      "Name: total_number, dtype: object\n",
      "Total number of Investments----> [12063]\n",
      "Total Investment(USD)---> 107757097294.0\n"
     ]
    }
   ],
   "source": [
    "####Printing out results for USA\n",
    "print(D1.groupby('main_sector')['total_number'].unique().sort_values(ascending=False))\n",
    "#print(D1.groupby('main_sector')['total_amount'].unique().sort_values(ascending=False))\n",
    "print(\"Total number of Investments---->\",D1.groupby('main_sector')['total_number'].unique().sum())\n",
    "print(\"Total Investment(USD)--->\", D1['raised_amount_usd'].sum())"
   ]
  },
  {
   "cell_type": "code",
   "execution_count": 38,
   "metadata": {},
   "outputs": [
    {
     "name": "stdout",
     "output_type": "stream",
     "text": [
      "company_permalink          name       \n",
      "/organization/virtustream  Virtustream    64300000.0\n",
      "Name: raised_amount_usd, dtype: float64\n"
     ]
    }
   ],
   "source": [
    "####For top sector count-wise, which company received the highest investment\n",
    "print((D1[D1.main_sector=='Others']).groupby(['company_permalink','name'])['raised_amount_usd'].sum().sort_values(ascending=False).head(1))"
   ]
  },
  {
   "cell_type": "code",
   "execution_count": 39,
   "metadata": {},
   "outputs": [
    {
     "name": "stdout",
     "output_type": "stream",
     "text": [
      "company_permalink          name                           \n",
      "/organization/shotspotter  SST Inc. (Formerly ShotSpotter)    67933006.0\n",
      "Name: raised_amount_usd, dtype: float64\n"
     ]
    }
   ],
   "source": [
    "####For Second best sector count-wise, which company received the highest investment\n",
    "print((D1[D1.main_sector=='Social, Finance, Analytics, Advertising']).groupby(['company_permalink','name'])['raised_amount_usd'].sum().sort_values(ascending=False).head(1))"
   ]
  },
  {
   "cell_type": "markdown",
   "metadata": {},
   "source": [
    "##### Country2 Analysis"
   ]
  },
  {
   "cell_type": "code",
   "execution_count": 40,
   "metadata": {},
   "outputs": [
    {
     "name": "stdout",
     "output_type": "stream",
     "text": [
      "main_sector\n",
      "Others                                     [147]\n",
      "Social, Finance, Analytics, Advertising    [133]\n",
      "Cleantech / Semiconductors                 [130]\n",
      "News, Search and Messaging                  [73]\n",
      "Entertainment                               [56]\n",
      "Manufacturing                               [42]\n",
      "Health                                      [24]\n",
      "Automotive & Sports                         [16]\n",
      "Name: total_number, dtype: object\n",
      "Total number of Investments----> [621]\n",
      "Total Investment(USD)---> 5379078691.0\n"
     ]
    }
   ],
   "source": [
    "####Printing out results for Great Britain\n",
    "print(D2.groupby('main_sector')['total_number'].unique().sort_values(ascending=False))\n",
    "#print(D2.groupby('main_sector')['total_amount'].unique().sort_values(ascending=False))\n",
    "print(\"Total number of Investments---->\",D2.groupby('main_sector')['total_number'].unique().sum())\n",
    "print(\"Total Investment(USD)--->\", D2['raised_amount_usd'].sum())"
   ]
  },
  {
   "cell_type": "code",
   "execution_count": 41,
   "metadata": {},
   "outputs": [
    {
     "name": "stdout",
     "output_type": "stream",
     "text": [
      "company_permalink             name          \n",
      "/organization/electric-cloud  Electric Cloud    37000000.0\n",
      "Name: raised_amount_usd, dtype: float64\n"
     ]
    }
   ],
   "source": [
    "####For top sector count-wise, which company received the highest investment\n",
    "print((D2[D2.main_sector=='Others']).groupby(['company_permalink','name'])['raised_amount_usd'].sum().sort_values(ascending=False).head(1))"
   ]
  },
  {
   "cell_type": "code",
   "execution_count": 42,
   "metadata": {},
   "outputs": [
    {
     "name": "stdout",
     "output_type": "stream",
     "text": [
      "company_permalink                    name                 \n",
      "/organization/celltick-technologies  Celltick Technologies    37500000.0\n",
      "Name: raised_amount_usd, dtype: float64\n"
     ]
    }
   ],
   "source": [
    "####For Second best sector count-wise, which company received the highest investment\n",
    "print((D2[D2.main_sector=='Social, Finance, Analytics, Advertising']).groupby(['company_permalink','name'])['raised_amount_usd'].sum().sort_values(ascending=False).head(1))"
   ]
  },
  {
   "cell_type": "markdown",
   "metadata": {},
   "source": [
    "##### Country 3 Analysis"
   ]
  },
  {
   "cell_type": "code",
   "execution_count": 43,
   "metadata": {},
   "outputs": [
    {
     "name": "stdout",
     "output_type": "stream",
     "text": [
      "main_sector\n",
      "Others                                     [110]\n",
      "Social, Finance, Analytics, Advertising     [60]\n",
      "News, Search and Messaging                  [52]\n",
      "Entertainment                               [33]\n",
      "Manufacturing                               [21]\n",
      "Cleantech / Semiconductors                  [20]\n",
      "Health                                      [19]\n",
      "Automotive & Sports                         [13]\n",
      "Name: total_number, dtype: object\n",
      "Total number of Investments----> [328]\n",
      "Total Investment(USD)---> 2949543602.0\n"
     ]
    }
   ],
   "source": [
    "####Printing out results for India\n",
    "print(D3.groupby('main_sector')['total_number'].unique().sort_values(ascending=False))\n",
    "#print(D3.groupby('main_sector')['total_amount'].unique().sort_values(ascending=False))\n",
    "print(\"Total number of Investments---->\",D3.groupby('main_sector')['total_number'].unique().sum())\n",
    "print(\"Total Investment(USD)--->\", D3['raised_amount_usd'].sum())"
   ]
  },
  {
   "cell_type": "code",
   "execution_count": 44,
   "metadata": {},
   "outputs": [
    {
     "name": "stdout",
     "output_type": "stream",
     "text": [
      "company_permalink           name        \n",
      "/organization/firstcry-com  FirstCry.com    39000000.0\n",
      "Name: raised_amount_usd, dtype: float64\n"
     ]
    }
   ],
   "source": [
    "####For top sector count-wise, which company received the highest investment\n",
    "print((D3[D3.main_sector=='Others']).groupby(['company_permalink','name'])['raised_amount_usd'].sum().sort_values(ascending=False).head(1))"
   ]
  },
  {
   "cell_type": "code",
   "execution_count": 45,
   "metadata": {},
   "outputs": [
    {
     "name": "stdout",
     "output_type": "stream",
     "text": [
      "company_permalink              name           \n",
      "/organization/manthan-systems  Manthan Systems    50700000.0\n",
      "Name: raised_amount_usd, dtype: float64\n"
     ]
    }
   ],
   "source": [
    "####For Second best sector count-wise, which company received the highest investment\n",
    "print((D3[D3.main_sector=='Social, Finance, Analytics, Advertising']).groupby(['company_permalink','name'])['raised_amount_usd'].sum().sort_values(ascending=False).head(1))"
   ]
  },
  {
   "cell_type": "markdown",
   "metadata": {
    "collapsed": true
   },
   "source": [
    "# Checkpoint 6 - Results and Plots"
   ]
  },
  {
   "cell_type": "markdown",
   "metadata": {
    "collapsed": true
   },
   "source": [
    "#### A plot showing the fraction of total investments (globally) in venture, seed, and private equity, and the average amount of investment in each funding type. This chart should make it clear that a certain funding type (FT) is best suited for Spark Funds."
   ]
  },
  {
   "cell_type": "code",
   "execution_count": 46,
   "metadata": {},
   "outputs": [
    {
     "data": {
      "text/html": [
       "<div>\n",
       "<style>\n",
       "    .dataframe thead tr:only-child th {\n",
       "        text-align: right;\n",
       "    }\n",
       "\n",
       "    .dataframe thead th {\n",
       "        text-align: left;\n",
       "    }\n",
       "\n",
       "    .dataframe tbody tr th {\n",
       "        vertical-align: top;\n",
       "    }\n",
       "</style>\n",
       "<table border=\"1\" class=\"dataframe\">\n",
       "  <thead>\n",
       "    <tr style=\"text-align: right;\">\n",
       "      <th></th>\n",
       "      <th>funding_round_type</th>\n",
       "      <th>sum</th>\n",
       "      <th>mean</th>\n",
       "      <th>investment_fraction(%)</th>\n",
       "      <th>average(millions)</th>\n",
       "    </tr>\n",
       "  </thead>\n",
       "  <tbody>\n",
       "    <tr>\n",
       "      <th>11</th>\n",
       "      <td>seed</td>\n",
       "      <td>1.698986e+10</td>\n",
       "      <td>7.198180e+05</td>\n",
       "      <td>1.715931</td>\n",
       "      <td>0.719818</td>\n",
       "    </tr>\n",
       "    <tr>\n",
       "      <th>0</th>\n",
       "      <td>angel</td>\n",
       "      <td>4.659255e+09</td>\n",
       "      <td>9.586945e+05</td>\n",
       "      <td>0.470572</td>\n",
       "      <td>0.958694</td>\n",
       "    </tr>\n",
       "    <tr>\n",
       "      <th>13</th>\n",
       "      <td>venture</td>\n",
       "      <td>5.901262e+11</td>\n",
       "      <td>1.174895e+07</td>\n",
       "      <td>59.601178</td>\n",
       "      <td>11.748949</td>\n",
       "    </tr>\n",
       "    <tr>\n",
       "      <th>8</th>\n",
       "      <td>private_equity</td>\n",
       "      <td>1.419254e+11</td>\n",
       "      <td>7.330859e+07</td>\n",
       "      <td>14.334092</td>\n",
       "      <td>73.308593</td>\n",
       "    </tr>\n",
       "  </tbody>\n",
       "</table>\n",
       "</div>"
      ],
      "text/plain": [
       "   funding_round_type           sum          mean  investment_fraction(%)  \\\n",
       "11               seed  1.698986e+10  7.198180e+05                1.715931   \n",
       "0               angel  4.659255e+09  9.586945e+05                0.470572   \n",
       "13            venture  5.901262e+11  1.174895e+07               59.601178   \n",
       "8      private_equity  1.419254e+11  7.330859e+07               14.334092   \n",
       "\n",
       "    average(millions)  \n",
       "11           0.719818  \n",
       "0            0.958694  \n",
       "13          11.748949  \n",
       "8           73.308593  "
      ]
     },
     "execution_count": 46,
     "metadata": {},
     "output_type": "execute_result"
    }
   ],
   "source": [
    "####Create a new dataframe to store plotting information\n",
    "selected_funds=df_by_funding['raised_amount_usd'].agg(['sum','mean']).reset_index()\n",
    "selected_funds['investment_fraction(%)']=(selected_funds['sum']/np.sum(selected_funds['sum']))*100\n",
    "selected_funds=selected_funds[selected_funds['funding_round_type'].isin(['angel','seed','private_equity','venture'])]\n",
    "selected_funds['average(millions)']=selected_funds['mean']/1000000\n",
    "selected_funds=selected_funds.sort_values(by='average(millions)',ascending=True)\n",
    "selected_funds"
   ]
  },
  {
   "cell_type": "code",
   "execution_count": 47,
   "metadata": {},
   "outputs": [
    {
     "data": {
      "image/png": "[encoded data removed]",
      "text/plain": [
       "<matplotlib.figure.Figure at 0x15580fe8208>"
      ]
     },
     "metadata": {},
     "output_type": "display_data"
    }
   ],
   "source": [
    "####Plot\n",
    "####Adjust figure size\n",
    "plt.figure(figsize=(20, 9))\n",
    "sns.set(font_scale=1.8)\n",
    "\n",
    "####Subplot 1: Investment Percentage across various funding types\n",
    "plt.subplot(1, 2, 1)\n",
    "p1=sns.barplot(x='funding_round_type', y='investment_fraction(%)', data=selected_funds)\n",
    "p1.set(xlabel='Funding Type', ylabel='Investment in %')\n",
    "plt.title(\"Investment Percentage\")\n",
    "plt.ylim([0,100])\n",
    "\n",
    "####Subplot 2: Average Investment across various funding types\n",
    "plt.subplot(1, 2, 2)\n",
    "p2= sns.barplot(x='funding_round_type', y='average(millions)', data=selected_funds)\n",
    "p2.set(xlabel='Funding Type', ylabel='Average in Millions')\n",
    "plt.title(\"Average Investment\")\n",
    "plt.ylim([0,80])\n",
    "\n",
    "\n",
    "plt.show()"
   ]
  },
  {
   "cell_type": "markdown",
   "metadata": {},
   "source": [
    "##### Its clear that Venture funding is best suited funding type for our investments"
   ]
  },
  {
   "cell_type": "markdown",
   "metadata": {
    "collapsed": true
   },
   "source": [
    "#### A plot showing the top 9 countries against the total amount of investments of funding type FT. This should make the top 3 countries (Country 1, Country 2, and Country 3) very clear."
   ]
  },
  {
   "cell_type": "code",
   "execution_count": 48,
   "metadata": {},
   "outputs": [
    {
     "data": {
      "image/png": "[encoded data removed]",
      "text/plain": [
       "<matplotlib.figure.Figure at 0x155fece55f8>"
      ]
     },
     "metadata": {},
     "output_type": "display_data"
    }
   ],
   "source": [
    "####Top 9 investment friendly countries\n",
    "plt.figure(figsize=(20, 10))\n",
    "sns.set(font_scale=1.8)\n",
    "p3=sns.barplot(x='country_code', y='amount(Billions)', data=top9, estimator=np.sum)\n",
    "plt.yscale('log')\n",
    "p3.set(xlabel='Country', ylabel='Total Investment Amount(Billions)')\n",
    "plt.title(\"Top 9 countries for Venture Funding\")\n",
    "plt.show()"
   ]
  },
  {
   "cell_type": "markdown",
   "metadata": {},
   "source": [
    "##### Top English speaking investment friendly countries are - United States, United Kingdom and India"
   ]
  },
  {
   "cell_type": "markdown",
   "metadata": {
    "collapsed": true
   },
   "source": [
    "### A plot showing the number of investments in the top 3 sectors of the top 3 countries on one chart (for the chosen investment type FT). "
   ]
  },
  {
   "cell_type": "code",
   "execution_count": 49,
   "metadata": {},
   "outputs": [
    {
     "data": {
      "text/plain": [
       "<matplotlib.figure.Figure at 0x1558218bb38>"
      ]
     },
     "metadata": {},
     "output_type": "display_data"
    },
    {
     "data": {
      "image/png": "[encoded data removed]",
      "text/plain": [
       "<matplotlib.figure.Figure at 0x155fece5518>"
      ]
     },
     "metadata": {},
     "output_type": "display_data"
    }
   ],
   "source": [
    "####Plot showing the number of investments in the top 3 sectors of the top 3 countries\n",
    "plt.figure(figsize=(20, 10))\n",
    "sns.set(font_scale=1)\n",
    "\n",
    "fig,ax=plt.subplots(1,3)\n",
    "fig.set_size_inches(14, 8.27)\n",
    "plt.suptitle(\"Top Investment Sectors across Countries \")\n",
    "\n",
    "\n",
    "# No of investments in USA\n",
    "s1=sns.countplot(D1['main_sector'], ax=ax[0],order=D1.main_sector.value_counts().iloc[:3].index)\n",
    "s1.set_xticklabels(s1.get_xticklabels(), rotation=40, ha=\"right\")\n",
    "s1.set_xlabel(\"USA\")\n",
    "\n",
    "# No of investments in Great Britain\n",
    "s2=sns.countplot(D2['main_sector'], ax=ax[1],order=D2.main_sector.value_counts().iloc[:3].index)\n",
    "s2.set_xticklabels(s2.get_xticklabels(), rotation=40, ha=\"right\")\n",
    "s2.set_xlabel(\"Great Britain\")\n",
    "\n",
    "# No of investments in India\n",
    "s3=sns.countplot(D3['main_sector'], ax=ax[2],order=D3.main_sector.value_counts().iloc[:3].index)\n",
    "s3.set_xticklabels(s3.get_xticklabels(), rotation=40, ha=\"right\")\n",
    "s3.set_xlabel(\"India\")\n",
    "\n",
    "plt.show()"
   ]
  },
  {
   "cell_type": "markdown",
   "metadata": {},
   "source": [
    "##### Its clear that the main sectors - \"Others\" and \"Social, Finance, Analytics, Advertising\" attract most invetsments"
   ]
  },
  {
   "cell_type": "markdown",
   "metadata": {},
   "source": [
    "# Additional Analysis"
   ]
  },
  {
   "cell_type": "markdown",
   "metadata": {},
   "source": [
    "#### Taking into account of operting status of companies before making final investment decision"
   ]
  },
  {
   "cell_type": "code",
   "execution_count": 50,
   "metadata": {},
   "outputs": [
    {
     "data": {
      "image/png": "[encoded data removed]",
      "text/plain": [
       "<matplotlib.figure.Figure at 0x15582152ef0>"
      ]
     },
     "metadata": {},
     "output_type": "display_data"
    }
   ],
   "source": [
    "plt.figure(num=None, figsize=(25, 10), dpi=80)\n",
    "sns.countplot(x=D1[D1.main_sector.isin(pd.Series((D1.main_sector.value_counts().iloc[:3]).index))].main_sector, \n",
    "            hue='status',data=D1)\n",
    "plt.show()"
   ]
  },
  {
   "cell_type": "code",
   "execution_count": 51,
   "metadata": {},
   "outputs": [
    {
     "data": {
      "image/png": "[encoded data removed]",
      "text/plain": [
       "<matplotlib.figure.Figure at 0x155831da5c0>"
      ]
     },
     "metadata": {},
     "output_type": "display_data"
    }
   ],
   "source": [
    "plt.figure(num=None, figsize=(25, 10), dpi=80)\n",
    "sns.countplot(x=D2[D2.main_sector.isin(pd.Series((D2.main_sector.value_counts().iloc[:3]).index))].main_sector, \n",
    "            hue='status',data=D2)\n",
    "plt.show()"
   ]
  },
  {
   "cell_type": "code",
   "execution_count": 52,
   "metadata": {},
   "outputs": [
    {
     "data": {
      "image/png": "[encoded data removed]",
      "text/plain": [
       "<matplotlib.figure.Figure at 0x155817135c0>"
      ]
     },
     "metadata": {},
     "output_type": "display_data"
    }
   ],
   "source": [
    "plt.figure(num=None, figsize=(25, 10), dpi=80)\n",
    "sns.countplot(x=D3[D3.main_sector.isin(pd.Series((D3.main_sector.value_counts().iloc[:3]).index))].main_sector, \n",
    "            hue='status',data=D3)\n",
    "plt.show()"
   ]
  },
  {
   "cell_type": "markdown",
   "metadata": {},
   "source": [
    "##### Looks like the operting status of companies doesnt impact much of our investment decision"
   ]
  },
  {
   "cell_type": "markdown",
   "metadata": {},
   "source": [
    "##### So it is conclusive that Venture funding is the most suitable investment for our case and the investment friendly countries are US, UK and India.\n",
    "##### Recommendations:\n",
    "##### USA looks the most investment friendly as per our requirements. So it is recommended to invest there in the sectors of Others(Software, technology etc..) and “Social, Finance, Analytics, Advertising”\n",
    "##### Moreover in-order to split the portfolio, it is recommended to invest in “Cleantech / Semiconductors” in UK and “Others” sector in India\n"
   ]
  }
 ],
 "metadata": {
  "kernelspec": {
   "display_name": "Python 3",
   "language": "python",
   "name": "python3"
  },
  "language_info": {
   "codemirror_mode": {
    "name": "ipython",
    "version": 3
   },
   "file_extension": ".py",
   "mimetype": "text/x-python",
   "name": "python",
   "nbconvert_exporter": "python",
   "pygments_lexer": "ipython3",
   "version": "3.6.7"
  }
 },
 "nbformat": 4,
 "nbformat_minor": 2
}
